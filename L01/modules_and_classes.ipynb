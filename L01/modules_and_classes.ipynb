{
 "cells": [
  {
   "cell_type": "markdown",
   "metadata": {},
   "source": [
    "# SWMAL Exercise\n",
    "\n",
    "### MAL Group-Nr. 15\n",
    "13-09-2025\n",
    "\n",
    "| Name   | ID        |\n",
    "|--------|-----------|                       \n",
    "| John   | 202209849 |\n",
    "| Khaled | 202307853 |\n",
    "| Jahye  | 202309135 |\n",
    "\n",
    "## Python Basics\n",
    "\n",
    "### Modules and Packages in Python\n",
    "\n",
    "Reuse of code in Jupyter notebooks can be done by either including a raw python source as a magic command\n",
    "\n",
    "```python\n",
    "%load filename.py\n",
    "```\n",
    "but this just pastes the source into the notebook and creates all kinds of pains regarding code maintenance.\n",
    "\n",
    "A better way is to use a python __module__. A module consists simply (and pythonic) of a directory with a module init file in it (possibly empty) \n",
    "```python\n",
    "libitmal/__init__.py\n",
    "```\n",
    "To this directory you can add modules in form of plain python files, say\n",
    "```python\n",
    "libitmal/utils.py\n",
    "```\n",
    "That's about it! The `libitmal` file tree should now look like\n",
    "```\n",
    "libitmal/\n",
    "├── __init__.py\n",
    "├── __pycache__\n",
    "│   ├── __init__.cpython-36.pyc\n",
    "│   └── utils.cpython-36.pyc\n",
    "├── utils.py\n",
    "```\n",
    "with the cache part only being present once the module has been initialized.\n",
    "\n",
    "You should now be able to use the `libitmal` unit via an import directive, like\n",
    "```python\n",
    "import numpy as np\n",
    "from libitmal import utils as itmalutils\n",
    "\n",
    "print(dir(itmalutils))\n",
    "print(itmalutils.__file__)\n",
    "\n",
    "X = np.array([[1,2],[3,-100]])\n",
    "itmalutils.PrintMatrix(X,\"mylabel=\")\n",
    "itmalutils.TestAll()\n",
    "```\n",
    "\n",
    "#### Qa Load and test the `libitmal` module\n",
    "\n",
    "Try out the `libitmal` module from [GITMAL]. Load this module and run the function\n",
    "\n",
    "```python\n",
    "from libitmal import utils as itmalutils\n",
    "itmalutils.TestAll()\n",
    "```\n",
    "from this module.\n",
    "\n",
    "##### Implementation details\n",
    "\n",
    "Note that there is a python module ___include___ search path, that you may have to investigate and modify. For my Linux setup I have an export or declare statement in my .bashrc file, like\n",
    "\n",
    "```bash\n",
    "declare -x PYTHONPATH=~/ASE/ML/itmal:$PYTHONPATH\n",
    "```\n",
    "but your ```itmal```, the [GITMAL] root dir, may be placed elsewhere.\n",
    "\n",
    "For ___Windows___, you have to add `PYTHONPATH` to your user environment variables...see screenshot below (enlarge by modding the image width-tag or find the original png in the Figs directory).\n",
    "\n",
    "<img src=\"https://itundervisning.ase.au.dk/SWMAL/L01/Figs/Screenshot_windows_enviroment_variables.png\" alt=\"WARNING: could not get image from server.\" style=\"height:250px\" style=\"width:350px\">\n",
    "\n",
    "but notice that for this to take effect, you need to restart Anaconda or perhaps even reboot your Windows OS! An alternative, not requiring restart is to use a CMD prompt and the following command under Windows\n",
    "\n",
    "```bash\n",
    "CMD> setx.exe PYTHONPATH \"C:\\Users\\auXXYYZZ\\itmal\"\n",
    "```\n",
    "\n",
    "replacing the username and path with whatever you have. Note that some Windows installations have various security settings enables, so that running `setx.exe` fails. Setting up a MAC should be similar to Linux; just modify your `PYTHONPATH` setting (still to be proven correct?, CEF). \n",
    "\n",
    "\n",
    "If everything fails you could programmatically add your path to the libitmal directory as\n",
    "\n",
    "```python\n",
    "import sys,os\n",
    "sys.path.append(os.path.expanduser('~/itmal'))\n",
    "\n",
    "from libitmal import utils as itmalutils\n",
    "print(dir(itmalutils))\n",
    "print(itmalutils.__file__)\n",
    "```\n",
    "\n",
    "For the journal: remember to document your particular PATH setup."
   ]
  },
  {
   "cell_type": "markdown",
   "metadata": {},
   "source": [
    "#### Qb Create your own module, with some functions, and test it\n",
    "\n",
    "Now create your own module, with some dummy functionality. Load it and run you dummy function in a Jupyter Notebook.\n",
    "\n",
    "Keep this module at hand, when coding, and try to capture reusable python functions in it as you invent them!\n",
    "\n",
    "For the journal: remember to document your particular library setup (where did you place files, etc)."
   ]
  },
  {
   "cell_type": "code",
   "execution_count": 2,
   "metadata": {},
   "outputs": [
    {
     "name": "stdout",
     "output_type": "stream",
     "text": [
      "Module location: d:\\Uni\\University-MachineLearning\\L01\\mymodule\\utils.py\n",
      "\n",
      "Testing my functions:\n",
      "Hello Omar!\n",
      "5 + 7 = 12\n",
      "Created matrix:\n",
      "[[1. 1. 1.]\n",
      " [1. 1. 1.]]\n",
      "Testing my simple module:\n",
      "Greeting: Hello ML Student!\n",
      "Adding 5 + 3 = 8\n",
      "Matrix:\n",
      "[[1. 1.]\n",
      " [1. 1.]\n",
      " [1. 1.]]\n",
      "\n",
      "Simple module works.\n"
     ]
    }
   ],
   "source": [
    "import sys\n",
    "import os\n",
    "\n",
    "sys.path.append(os.getcwd())\n",
    "from mymodule import utils as myutils\n",
    "\n",
    "print(f\"Module location: {myutils.__file__}\")\n",
    "\n",
    "# Test functions\n",
    "print(\"\\nTesting my functions:\")\n",
    "print(myutils.say_hello(\"Omar\"))\n",
    "print(f\"5 + 7 = {myutils.add_numbers(5, 7)}\")\n",
    "\n",
    "matrix = myutils.create_matrix(2, 3)\n",
    "print(f\"Created matrix:\\n{matrix}\")\n",
    "\n",
    "# Run tests\n",
    "myutils.test_my_functions()\n",
    "\n",
    "print(\"\\nSimple module works.\")"
   ]
  },
  {
   "cell_type": "markdown",
   "metadata": {},
   "source": [
    "#### Qc How do you 'recompile' a module?\n",
    "\n",
    "When changing the module code, Jupyter will keep running on the old module. How do you force the Jupyter notebook to re-load the module changes? \n",
    "\n",
    "NOTE: There is a surprising issue regarding module reloads in Jupyter notebooks both using the browser interface and VSCode (at least with some Notebooks addons). If you use another development framework, like Spyder module reloading works out-of-the-box. "
   ]
  },
  {
   "cell_type": "code",
   "execution_count": null,
   "metadata": {},
   "outputs": [
    {
     "name": "stdout",
     "output_type": "stream",
     "text": [
      "Before reload:\n",
      "Hello Test!\n",
      "\n",
      "Reloading module...\n",
      "My simple module loaded!\n",
      "After reload:\n",
      "Hello Test - Updated!\n",
      "\n",
      "For automatic reloading, use:\n",
      "%load_ext autoreload\n",
      "%autoreload 2\n",
      "The autoreload extension is already loaded. To reload it, use:\n",
      "  %reload_ext autoreload\n"
     ]
    }
   ],
   "source": [
    "import importlib\n",
    "import sys\n",
    "import os\n",
    "\n",
    "sys.path.append(os.getcwd())\n",
    "from mymodule import utils as myutils\n",
    "\n",
    "print(\"Before reload:\")\n",
    "print(myutils.say_hello(\"Test\"))\n",
    "\n",
    "# Method 1: importlib.reload() - most common\n",
    "print(\"\\nReloading module...\")\n",
    "myutils = importlib.reload(myutils)\n",
    "print(\"After reload:\")\n",
    "print(myutils.say_hello(\"Test - Updated\"))\n",
    "\n",
    "# Method 2: Jupyter - automatic reloading\n",
    "print(\"\\nFor automatic reloading, use:\")\n",
    "print(\"%load_ext autoreload\")\n",
    "print(\"%autoreload 2\")\n",
    "\n",
    "%load_ext autoreload\n",
    "%autoreload 2\n"
   ]
  },
  {
   "cell_type": "markdown",
   "metadata": {},
   "source": [
    "Why used:\n",
    "```python\n",
    "myutils = importlib.reload(myutils)\n",
    "```\n",
    "Explination: Used because you have to reassign the variable after reload for it to work."
   ]
  },
  {
   "cell_type": "markdown",
   "metadata": {},
   "source": [
    "#### [OPTIONAL] Qd Write a Howto on Python Modules a Packages\n",
    "\n",
    "Write a short description of how to use modules in Python (notes on modules path, import directives, directory structure, etc.)"
   ]
  },
  {
   "cell_type": "code",
   "execution_count": 1,
   "metadata": {},
   "outputs": [
    {
     "name": "stdout",
     "output_type": "stream",
     "text": [
      "MyModule package loaded successfully!\n",
      "My simple module loaded!\n",
      "Module imported\n",
      "Functions: ['add_numbers', 'create_matrix', 'np', 'say_hello', 'test_my_functions']\n"
     ]
    }
   ],
   "source": [
    "# Solution for Qd: Python Modules and Packages Howto\n",
    "\n",
    "# Directory structure:\n",
    "# mymodule/\n",
    "#   __init__.py (makes it a package)  \n",
    "#   utils.py (module with functions)\n",
    "\n",
    "# Import methods:\n",
    "import sys\n",
    "import os\n",
    "sys.path.append(os.getcwd())  # Add current directory to path\n",
    "from mymodule import utils    # Import module\n",
    "\n",
    "print(\"Module imported\")\n",
    "print(\"Functions:\", [f for f in dir(utils) if not f.startswith('_')])"
   ]
  },
  {
   "cell_type": "markdown",
   "metadata": {},
   "source": [
    "### Classes in Python\n",
    "\n",
    "Good news: Python got classes. Bad news: they are somewhat obscure compared to C++ classes. \n",
    "\n",
    "Though we will not use object-oriented programming in Python intensively, we still need some basic understanding of Python classes. Let's just dig into a class-demo, here is `MyClass` in Python\n",
    "\n",
    "```python\n",
    "class MyClass:\n",
    "   \n",
    "    def myfun(self):\n",
    "        self.myvar = \"blah\" # NOTE: a per class-instance variable.\n",
    "        print(f\"This is a message inside the class, myvar={self.myvar}.\")\n",
    "\n",
    "myobjectx = MyClass()\n",
    "```\n",
    "\n",
    "NOTE: The following exercise assumes some C++ knowledge, in particular the OPRG and OOP courses. If you are an EE-student, or from another Faculty, then ignore the cryptic C++ comments, and jump directly to some Python code instead. It's the Python solution here, that is important!\n",
    "\n",
    "#### Qe Extend the class with some public and private functions and member variables\n",
    "\n",
    "How are private function and member variables represented in python classes? \n",
    "\n",
    "What is the meaning of `self` in python classes?\n",
    "\n",
    "What happens to a function inside a class if you forget `self` in the parameter list, like `def myfun():` instead of `def myfun(self):` and you try to call it like `myobjectx.myfun()`? Remember to document the demo code and result.\n",
    "\n",
    "\n",
    "[OPTIONAL] What does 'class' and 'instance variables' in python correspond to in C++? Maybe you can figure it out, I did not really get it reading, say this tutorial\n",
    "\n",
    "> https://www.digitalocean.com/community/tutorials/understanding-class-and-instance-variables-in-python-3"
   ]
  },
  {
   "cell_type": "code",
   "execution_count": 19,
   "metadata": {},
   "outputs": [
    {
     "name": "stdout",
     "output_type": "stream",
     "text": [
      "'self' refers to the instance of the class\n",
      "Public: This is public\n",
      "Protected: This is protected\n",
      "Private method error: 'MyClass' object has no attribute '__private_method'\n",
      "Error without 'self': BadClass.method_without_self() takes 0 positional arguments but 1 was given\n"
     ]
    }
   ],
   "source": [
    "# Solution for Qe: Public/Private functions and self\n",
    "\n",
    "class MyClass:\n",
    "    def __init__(self):\n",
    "        self.public_var = \"public\"        # Public variable\n",
    "        self._protected_var = \"protected\" # Protected (convention)\n",
    "        self.__private_var = \"private\"    # Private (name mangling)\n",
    "    \n",
    "    def public_method(self):\n",
    "        \"\"\"Public method\"\"\"\n",
    "        return \"This is public\"\n",
    "    \n",
    "    def _protected_method(self):\n",
    "        \"\"\"Protected method (convention)\"\"\"\n",
    "        return \"This is protected\"\n",
    "    \n",
    "    def __private_method(self):\n",
    "        \"\"\"Private method (name mangled)\"\"\"\n",
    "        return \"This is private\"\n",
    "\n",
    "# Test the class\n",
    "obj = MyClass()\n",
    "\n",
    "# What is 'self'?\n",
    "print(\"'self' refers to the instance of the class\")\n",
    "\n",
    "# Test access from outside\n",
    "print(f\"Public: {obj.public_method()}\")\n",
    "print(f\"Protected: {obj._protected_method()}\")\n",
    "\n",
    "# Private method access (will fail)\n",
    "try:\n",
    "    print(f\"Private: {obj.__private_method()}\")\n",
    "except AttributeError as e:\n",
    "    print(f\"Private method error: {e}\")\n",
    "\n",
    "# What happens without 'self'?\n",
    "class BadClass:\n",
    "    def method_without_self():  # Missing self\n",
    "        return \"This will fail\"\n",
    "\n",
    "bad_obj = BadClass()\n",
    "try:\n",
    "    result = bad_obj.method_without_self()\n",
    "except TypeError as e:\n",
    "    print(f\"Error without 'self': {e}\")"
   ]
  },
  {
   "cell_type": "markdown",
   "metadata": {},
   "source": [
    "#### Qf Extend the class with a Constructor\n",
    "\n",
    "Figure a way to declare/define a constructor (CTOR) in a python class. How is it done in python?\n",
    "\n",
    "Is there a class destructor in python (DTOR)? Give a textual reason why/why-not python has a DTOR?\n",
    "\n",
    "Hint: python is garbage collection like in C#, and do not go into the details of `__del__, ___enter__, __exit__` functions...unless you find it irresistible to investigate."
   ]
  },
  {
   "cell_type": "code",
   "execution_count": 21,
   "metadata": {},
   "outputs": [
    {
     "name": "stdout",
     "output_type": "stream",
     "text": [
      "Object test1 created with value 42\n",
      "Object test2 created with value 0\n",
      "Object test2 is being destroyed\n",
      "obj1.name: test1, obj1.value: 42\n",
      "\n",
      "Python has garbage collection:\n",
      "- __del__ is called when object is garbage collected\n",
      "- You rarely need to implement __del__\n",
      "- Python handles memory management automatically\n",
      "Object test1 is being destroyed\n",
      "obj1 deleted manually\n"
     ]
    }
   ],
   "source": [
    "# Solution for Qf: Constructor and Destructor\n",
    "\n",
    "class MyClassWithConstructor:\n",
    "    def __init__(self, name, value=0):\n",
    "        \"\"\"Constructor - called when object is created\"\"\"\n",
    "        self.name = name\n",
    "        self.value = value\n",
    "        print(f\"Object {self.name} created with value {self.value}\")\n",
    "    \n",
    "    def __del__(self):\n",
    "        \"\"\"Destructor - called when object is garbage collected\"\"\"\n",
    "        print(f\"Object {self.name} is being destroyed\")\n",
    "\n",
    "# Test constructor\n",
    "obj1 = MyClassWithConstructor(\"test1\", 42)\n",
    "obj2 = MyClassWithConstructor(\"test2\")\n",
    "\n",
    "print(f\"obj1.name: {obj1.name}, obj1.value: {obj1.value}\")\n",
    "\n",
    "# Python destructor notes:\n",
    "print(\"\\nPython has garbage collection:\")\n",
    "print(\"- __del__ is called when object is garbage collected\")\n",
    "print(\"- You rarely need to implement __del__\")\n",
    "print(\"- Python handles memory management automatically\")\n",
    "\n",
    "# Destructor called when objects go out of scope\n",
    "obj1.__del__() \n",
    "print(\"obj1 deleted manually\")"
   ]
  },
  {
   "cell_type": "markdown",
   "metadata": {},
   "source": [
    "#### Qg Extend the class with a to-string function\n",
    "\n",
    "Then find a way to serialize a class, that is to make some `tostring()` functionality similar to a C++ \n",
    "\n",
    "```C++\n",
    "friend ostream& operator<<(ostream& s,const MyClass& x)\n",
    "{\n",
    "    return os << ..\n",
    "}\n",
    "```\n",
    "\n",
    "If you do not know C++, you might be aware of the C# way to string serialize\n",
    "```\n",
    "    string s=myobject.tostring()\n",
    "```\n",
    "that is a per-class buildin function `tostring()`, now what is the pythonic way of 'printing' a class instance?"
   ]
  },
  {
   "cell_type": "code",
   "execution_count": 3,
   "metadata": {},
   "outputs": [
    {
     "name": "stdout",
     "output_type": "stream",
     "text": [
      "Using print() calls __str__:\n",
      "Alice, 25 years old\n",
      "\n",
      "Using repr() calls __repr__:\n",
      "Person('Alice', 25)\n",
      "\n",
      "String conversion:\n",
      "str(person): Alice, 25 years old\n",
      "repr(person): Person('Alice', 25)\n",
      "\n",
      "Without __str__, print uses __repr__: SimpleClass(42)\n"
     ]
    }
   ],
   "source": [
    "# Solution for Qg: String representation (__str__ and __repr__)\n",
    "\n",
    "class Person:\n",
    "    def __init__(self, name, age):\n",
    "        self.name = name\n",
    "        self.age = age\n",
    "    \n",
    "    def __str__(self):\n",
    "        \"\"\"String representation for users (readable)\"\"\"\n",
    "        return f\"{self.name}, {self.age} years old\"\n",
    "    \n",
    "    def __repr__(self):\n",
    "        \"\"\"String representation for developers (unambiguous)\"\"\"\n",
    "        return f\"Person('{self.name}', {self.age})\"\n",
    "\n",
    "# Test string representations\n",
    "person = Person(\"Alice\", 25)\n",
    "\n",
    "print(\"Using print() calls __str__:\")\n",
    "print(person)\n",
    "\n",
    "print(\"\\nUsing repr() calls __repr__:\")\n",
    "print(repr(person))\n",
    "\n",
    "print(\"\\nString conversion:\")\n",
    "print(f\"str(person): {str(person)}\")\n",
    "print(f\"repr(person): {repr(person)}\")\n",
    "\n",
    "# Without __str__, __repr__ is used as fallback\n",
    "class SimpleClass:\n",
    "    def __init__(self, value):\n",
    "        self.value = value\n",
    "    \n",
    "    def __repr__(self):\n",
    "        return f\"SimpleClass({self.value})\"\n",
    "\n",
    "simple = SimpleClass(42)\n",
    "print(f\"\\nWithout __str__, print uses __repr__: {simple}\")"
   ]
  },
  {
   "cell_type": "markdown",
   "metadata": {},
   "source": [
    "#### [OPTIONAL] Qh Write a Howto on Python Classes \n",
    "\n",
    "Write a _How-To use Classes Pythonically_, including a description of public/privacy, constructors/destructors, the meaning of `self`, and inheritance."
   ]
  },
  {
   "cell_type": "code",
   "execution_count": null,
   "metadata": {},
   "outputs": [],
   "source": [
    "# TODO: Qh..."
   ]
  },
  {
   "cell_type": "markdown",
   "metadata": {},
   "source": [
    "## Administration\n",
    "\n",
    "REVISIONS||\n",
    ":- | :- |\n",
    "2018-12-19| CEF, initial.                  \n",
    "2018-02-06| CEF, updated and spell checked. \n",
    "2018-02-07| CEF, made Qh optional.\n",
    "2018-02-08| CEF, added PYTHONPATH for windows.\n",
    "2018-02-12| CEF, small mod in itmalutils/utils.\n",
    "2019-08-20| CEF, E19 ITMAL update.\n",
    "2020-01-25| CEF, F20 ITMAL update.\n",
    "2020-08-06| CEF, E20 ITMAL update, udpated figs paths.\n",
    "2020-09-07| CEF, added text on OPRG and OOP for EE's\n",
    "2020-09-29| CEF, added elaboration for journal in Qa+b.\n",
    "2021-02-06| CEF, fixed itmalutils.TestAll() in markdown cell.\n",
    "2021-08-02| CEF, update to E21 ITMAL.\n",
    "2022-01-25| CEF, update to F22 SWMAL.\n",
    "2022-02-25| CEF, elaborated on setx.exe on Windows and MAC PYTHONPATH.\n",
    "2022-08-30| CEF, updated to v1 changes.\n",
    "2022-09-16| CEF, added comment on module reloading when not using notebooks.\n",
    "2023-08-30| CEF, minor table and text update.\n",
    "2023-09-08| CEF, added not on Anaconda/Windows restart for PYTHON path env.\n",
    "2023-02-18| CEF, elaborated on module reload and VSCode."
   ]
  }
 ],
 "metadata": {
  "kernelspec": {
   "display_name": "base",
   "language": "python",
   "name": "python3"
  },
  "language_info": {
   "codemirror_mode": {
    "name": "ipython",
    "version": 3
   },
   "file_extension": ".py",
   "mimetype": "text/x-python",
   "name": "python",
   "nbconvert_exporter": "python",
   "pygments_lexer": "ipython3",
   "version": "3.13.5"
  },
  "varInspector": {
   "cols": {
    "lenName": 16,
    "lenType": 16,
    "lenVar": 40
   },
   "kernels_config": {
    "python": {
     "delete_cmd_postfix": "",
     "delete_cmd_prefix": "del ",
     "library": "var_list.py",
     "varRefreshCmd": "print(var_dic_list())"
    },
    "r": {
     "delete_cmd_postfix": ") ",
     "delete_cmd_prefix": "rm(",
     "library": "var_list.r",
     "varRefreshCmd": "cat(var_dic_list()) "
    }
   },
   "position": {
    "height": "144.517px",
    "left": "666px",
    "right": "20px",
    "top": "425px",
    "width": "350px"
   },
   "types_to_exclude": [
    "module",
    "function",
    "builtin_function_or_method",
    "instance",
    "_Feature"
   ],
   "window_display": true
  }
 },
 "nbformat": 4,
 "nbformat_minor": 2
}
