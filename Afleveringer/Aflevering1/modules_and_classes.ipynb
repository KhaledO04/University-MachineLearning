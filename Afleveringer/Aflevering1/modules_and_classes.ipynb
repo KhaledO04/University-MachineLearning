{
 "cells": [
  {
   "attachments": {
    "image.png": {
     "image/png": "[encoded data removed]"
    }
   },
   "cell_type": "markdown",
   "metadata": {},
   "source": [
    "## Modules and classes\n",
    "\n",
    "#### Qa Load and test the `libitmal` module\n",
    "![PATH.png](attachment:image.png)\n"
   ]
  },
  {
   "cell_type": "markdown",
   "metadata": {},
   "source": [
    "#### Qb Create your own module, with some functions, and test it"
   ]
  },
  {
   "cell_type": "code",
   "execution_count": 2,
   "metadata": {},
   "outputs": [
    {
     "name": "stdout",
     "output_type": "stream",
     "text": [
      "Module location: d:\\Uni\\University-MachineLearning\\L01\\mymodule\\utils.py\n",
      "\n",
      "Testing my functions:\n",
      "Hello Omar!\n",
      "5 + 7 = 12\n",
      "Created matrix:\n",
      "[[1. 1. 1.]\n",
      " [1. 1. 1.]]\n",
      "Testing my simple module:\n",
      "Greeting: Hello ML Student!\n",
      "Adding 5 + 3 = 8\n",
      "Matrix:\n",
      "[[1. 1.]\n",
      " [1. 1.]\n",
      " [1. 1.]]\n",
      "\n",
      "Simple module works.\n"
     ]
    }
   ],
   "source": [
    "import sys\n",
    "import os\n",
    "\n",
    "sys.path.append(os.getcwd())\n",
    "from mymodule import utils as myutils\n",
    "\n",
    "print(f\"Module location: {myutils.__file__}\")\n",
    "\n",
    "# Test functions\n",
    "print(\"\\nTesting my functions:\")\n",
    "print(myutils.say_hello(\"Omar\"))\n",
    "print(f\"5 + 7 = {myutils.add_numbers(5, 7)}\")\n",
    "\n",
    "matrix = myutils.create_matrix(2, 3)\n",
    "print(f\"Created matrix:\\n{matrix}\")\n",
    "\n",
    "# Run tests\n",
    "myutils.test_my_functions()\n",
    "\n",
    "print(\"\\nSimple module works.\")"
   ]
  },
  {
   "cell_type": "markdown",
   "metadata": {},
   "source": [
    "#### Qc How do you 'recompile' a module?"
   ]
  },
  {
   "cell_type": "code",
   "execution_count": null,
   "metadata": {},
   "outputs": [
    {
     "name": "stdout",
     "output_type": "stream",
     "text": [
      "Before reload:\n",
      "Hello Test!\n",
      "\n",
      "Reloading module...\n",
      "My simple module loaded!\n",
      "After reload:\n",
      "Hello Test - Updated!\n",
      "\n",
      "For automatic reloading, use:\n",
      "%load_ext autoreload\n",
      "%autoreload 2\n",
      "The autoreload extension is already loaded. To reload it, use:\n",
      "  %reload_ext autoreload\n"
     ]
    }
   ],
   "source": [
    "import importlib\n",
    "import sys\n",
    "import os\n",
    "\n",
    "sys.path.append(os.getcwd())\n",
    "from mymodule import utils as myutils\n",
    "\n",
    "print(\"Before reload:\")\n",
    "print(myutils.say_hello(\"Test\"))\n",
    "\n",
    "# Method 1: importlib.reload() - most common\n",
    "print(\"\\nReloading module...\")\n",
    "myutils = importlib.reload(myutils)\n",
    "print(\"After reload:\")\n",
    "print(myutils.say_hello(\"Test - Updated\"))\n",
    "\n",
    "# Method 2: Jupyter - automatic reloading\n",
    "print(\"\\nFor automatic reloading, use:\")\n",
    "print(\"%load_ext autoreload\")\n",
    "print(\"%autoreload 2\")\n",
    "\n",
    "%load_ext autoreload\n",
    "%autoreload 2\n"
   ]
  },
  {
   "cell_type": "markdown",
   "metadata": {},
   "source": [
    "Why used:\n",
    "```python\n",
    "myutils = importlib.reload(myutils)\n",
    "```\n",
    "Explination: Used because you have to reassign the variable after reload for it to work."
   ]
  },
  {
   "cell_type": "markdown",
   "metadata": {},
   "source": [
    "#### [OPTIONAL] Qd Write a Howto on Python Modules a Packages"
   ]
  },
  {
   "cell_type": "code",
   "execution_count": 1,
   "metadata": {},
   "outputs": [
    {
     "name": "stdout",
     "output_type": "stream",
     "text": [
      "MyModule package loaded successfully!\n",
      "My simple module loaded!\n",
      "Module imported\n",
      "Functions: ['add_numbers', 'create_matrix', 'np', 'say_hello', 'test_my_functions']\n"
     ]
    }
   ],
   "source": [
    "# Solution for Qd: Python Modules and Packages Howto\n",
    "\n",
    "# Directory structure:\n",
    "# mymodule/\n",
    "#   __init__.py (makes it a package)  \n",
    "#   utils.py (module with functions)\n",
    "\n",
    "# Import methods:\n",
    "import sys\n",
    "import os\n",
    "sys.path.append(os.getcwd())  # Add current directory to path\n",
    "from mymodule import utils    # Import module\n",
    "\n",
    "print(\"Module imported\")\n",
    "print(\"Functions:\", [f for f in dir(utils) if not f.startswith('_')])"
   ]
  },
  {
   "cell_type": "markdown",
   "metadata": {},
   "source": [
    "#### Qe Extend the class with some public and private functions and member variables"
   ]
  },
  {
   "cell_type": "code",
   "execution_count": 19,
   "metadata": {},
   "outputs": [
    {
     "name": "stdout",
     "output_type": "stream",
     "text": [
      "'self' refers to the instance of the class\n",
      "Public: This is public\n",
      "Protected: This is protected\n",
      "Private method error: 'MyClass' object has no attribute '__private_method'\n",
      "Error without 'self': BadClass.method_without_self() takes 0 positional arguments but 1 was given\n"
     ]
    }
   ],
   "source": [
    "# Solution for Qe: Public/Private functions and self\n",
    "\n",
    "class MyClass:\n",
    "    def __init__(self):\n",
    "        self.public_var = \"public\"        # Public variable\n",
    "        self._protected_var = \"protected\" # Protected (convention)\n",
    "        self.__private_var = \"private\"    # Private (name mangling)\n",
    "    \n",
    "    def public_method(self):\n",
    "        \"\"\"Public method\"\"\"\n",
    "        return \"This is public\"\n",
    "    \n",
    "    def _protected_method(self):\n",
    "        \"\"\"Protected method (convention)\"\"\"\n",
    "        return \"This is protected\"\n",
    "    \n",
    "    def __private_method(self):\n",
    "        \"\"\"Private method (name mangled)\"\"\"\n",
    "        return \"This is private\"\n",
    "\n",
    "# Test the class\n",
    "obj = MyClass()\n",
    "\n",
    "# What is 'self'?\n",
    "print(\"'self' refers to the instance of the class\")\n",
    "\n",
    "# Test access from outside\n",
    "print(f\"Public: {obj.public_method()}\")\n",
    "print(f\"Protected: {obj._protected_method()}\")\n",
    "\n",
    "# Private method access (will fail)\n",
    "try:\n",
    "    print(f\"Private: {obj.__private_method()}\")\n",
    "except AttributeError as e:\n",
    "    print(f\"Private method error: {e}\")\n",
    "\n",
    "# What happens without 'self'?\n",
    "class BadClass:\n",
    "    def method_without_self():  # Missing self\n",
    "        return \"This will fail\"\n",
    "\n",
    "bad_obj = BadClass()\n",
    "try:\n",
    "    result = bad_obj.method_without_self()\n",
    "except TypeError as e:\n",
    "    print(f\"Error without 'self': {e}\")"
   ]
  },
  {
   "cell_type": "markdown",
   "metadata": {},
   "source": [
    "#### Qf Extend the class with a Constructor"
   ]
  },
  {
   "cell_type": "code",
   "execution_count": 21,
   "metadata": {},
   "outputs": [
    {
     "name": "stdout",
     "output_type": "stream",
     "text": [
      "Object test1 created with value 42\n",
      "Object test2 created with value 0\n",
      "Object test2 is being destroyed\n",
      "obj1.name: test1, obj1.value: 42\n",
      "\n",
      "Python has garbage collection:\n",
      "- __del__ is called when object is garbage collected\n",
      "- You rarely need to implement __del__\n",
      "- Python handles memory management automatically\n",
      "Object test1 is being destroyed\n",
      "obj1 deleted manually\n"
     ]
    }
   ],
   "source": [
    "# Solution for Qf: Constructor and Destructor\n",
    "\n",
    "class MyClassWithConstructor:\n",
    "    def __init__(self, name, value=0):\n",
    "        \"\"\"Constructor - called when object is created\"\"\"\n",
    "        self.name = name\n",
    "        self.value = value\n",
    "        print(f\"Object {self.name} created with value {self.value}\")\n",
    "    \n",
    "    def __del__(self):\n",
    "        \"\"\"Destructor - called when object is garbage collected\"\"\"\n",
    "        print(f\"Object {self.name} is being destroyed\")\n",
    "\n",
    "# Test constructor\n",
    "obj1 = MyClassWithConstructor(\"test1\", 42)\n",
    "obj2 = MyClassWithConstructor(\"test2\")\n",
    "\n",
    "print(f\"obj1.name: {obj1.name}, obj1.value: {obj1.value}\")\n",
    "\n",
    "# Python destructor notes:\n",
    "print(\"\\nPython has garbage collection:\")\n",
    "print(\"- __del__ is called when object is garbage collected\")\n",
    "print(\"- You rarely need to implement __del__\")\n",
    "print(\"- Python handles memory management automatically\")\n",
    "\n",
    "# Destructor called when objects go out of scope\n",
    "obj1.__del__() \n",
    "print(\"obj1 deleted manually\")"
   ]
  },
  {
   "cell_type": "markdown",
   "metadata": {},
   "source": [
    "#### Qg Extend the class with a to-string function"
   ]
  },
  {
   "cell_type": "code",
   "execution_count": 3,
   "metadata": {},
   "outputs": [
    {
     "name": "stdout",
     "output_type": "stream",
     "text": [
      "Using print() calls __str__:\n",
      "Alice, 25 years old\n",
      "\n",
      "Using repr() calls __repr__:\n",
      "Person('Alice', 25)\n",
      "\n",
      "String conversion:\n",
      "str(person): Alice, 25 years old\n",
      "repr(person): Person('Alice', 25)\n",
      "\n",
      "Without __str__, print uses __repr__: SimpleClass(42)\n"
     ]
    }
   ],
   "source": [
    "# Solution for Qg: String representation (__str__ and __repr__)\n",
    "\n",
    "class Person:\n",
    "    def __init__(self, name, age):\n",
    "        self.name = name\n",
    "        self.age = age\n",
    "    \n",
    "    def __str__(self):\n",
    "        \"\"\"String representation for users (readable)\"\"\"\n",
    "        return f\"{self.name}, {self.age} years old\"\n",
    "    \n",
    "    def __repr__(self):\n",
    "        \"\"\"String representation for developers (unambiguous)\"\"\"\n",
    "        return f\"Person('{self.name}', {self.age})\"\n",
    "\n",
    "# Test string representations\n",
    "person = Person(\"Alice\", 25)\n",
    "\n",
    "print(\"Using print() calls __str__:\")\n",
    "print(person)\n",
    "\n",
    "print(\"\\nUsing repr() calls __repr__:\")\n",
    "print(repr(person))\n",
    "\n",
    "print(\"\\nString conversion:\")\n",
    "print(f\"str(person): {str(person)}\")\n",
    "print(f\"repr(person): {repr(person)}\")\n",
    "\n",
    "# Without __str__, __repr__ is used as fallback\n",
    "class SimpleClass:\n",
    "    def __init__(self, value):\n",
    "        self.value = value\n",
    "    \n",
    "    def __repr__(self):\n",
    "        return f\"SimpleClass({self.value})\"\n",
    "\n",
    "simple = SimpleClass(42)\n",
    "print(f\"\\nWithout __str__, print uses __repr__: {simple}\")"
   ]
  }
 ],
 "metadata": {
  "kernelspec": {
   "display_name": "base",
   "language": "python",
   "name": "python3"
  },
  "language_info": {
   "codemirror_mode": {
    "name": "ipython",
    "version": 3
   },
   "file_extension": ".py",
   "mimetype": "text/x-python",
   "name": "python",
   "nbconvert_exporter": "python",
   "pygments_lexer": "ipython3",
   "version": "3.13.5"
  },
  "varInspector": {
   "cols": {
    "lenName": 16,
    "lenType": 16,
    "lenVar": 40
   },
   "kernels_config": {
    "python": {
     "delete_cmd_postfix": "",
     "delete_cmd_prefix": "del ",
     "library": "var_list.py",
     "varRefreshCmd": "print(var_dic_list())"
    },
    "r": {
     "delete_cmd_postfix": ") ",
     "delete_cmd_prefix": "rm(",
     "library": "var_list.r",
     "varRefreshCmd": "cat(var_dic_list()) "
    }
   },
   "position": {
    "height": "144.517px",
    "left": "666px",
    "right": "20px",
    "top": "425px",
    "width": "350px"
   },
   "types_to_exclude": [
    "module",
    "function",
    "builtin_function_or_method",
    "instance",
    "_Feature"
   ],
   "window_display": true
  }
 },
 "nbformat": 4,
 "nbformat_minor": 2
}
