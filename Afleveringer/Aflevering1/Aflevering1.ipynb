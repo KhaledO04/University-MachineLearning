{
 "cells": [
  {
   "cell_type": "code",
   "execution_count": 1,
   "id": "dc03459a",
   "metadata": {},
   "outputs": [
    {
     "name": "stdout",
     "output_type": "stream",
     "text": [
      "Collecting nbmerge\n",
      "  Downloading nbmerge-0.0.4.tar.gz (7.6 kB)\n",
      "  Preparing metadata (setup.py): started\n",
      "  Preparing metadata (setup.py): finished with status 'done'\n",
      "Building wheels for collected packages: nbmerge\n",
      "  Building wheel for nbmerge (setup.py): started\n",
      "  Building wheel for nbmerge (setup.py): finished with status 'done'\n",
      "  Created wheel for nbmerge: filename=nbmerge-0.0.4-py2.py3-none-any.whl size=6429 sha256=8f2791ffcb5fdc202bfbad03acc103a59ee98bc9e65b4bcb83d021a660897466\n",
      "  Stored in directory: c:\\users\\omary\\appdata\\local\\pip\\cache\\wheels\\05\\7d\\2c\\44d9b357515a0b4f972f5438115face603f69e8c70233ddc1a\n",
      "Successfully built nbmerge\n",
      "Installing collected packages: nbmerge\n",
      "Successfully installed nbmerge-0.0.4\n"
     ]
    }
   ],
   "source": [
    "!pip install nbmerge"
   ]
  },
  {
   "cell_type": "code",
   "execution_count": 2,
   "id": "0992e995",
   "metadata": {},
   "outputs": [],
   "source": [
    "!nbmerge intro.ipynb modules_and_classes.ipynb cost_function.ipynb dummy_classifier.ipynb performance_metrics.ipynb > O1-Genaflevering.ipynb"
   ]
  }
 ],
 "metadata": {
  "kernelspec": {
   "display_name": "base",
   "language": "python",
   "name": "python3"
  },
  "language_info": {
   "codemirror_mode": {
    "name": "ipython",
    "version": 3
   },
   "file_extension": ".py",
   "mimetype": "text/x-python",
   "name": "python",
   "nbconvert_exporter": "python",
   "pygments_lexer": "ipython3",
   "version": "3.11.5"
  }
 },
 "nbformat": 4,
 "nbformat_minor": 5
}
