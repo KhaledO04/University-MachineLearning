{
 "cells": [
  {
   "cell_type": "markdown",
   "metadata": {},
   "source": [
    "# SWMAL Exercise\n",
    "\n",
    "### MAL Group-Nr. 15\n",
    "13-09-2025\n",
    "\n",
    "| Name   | ID        |\n",
    "|--------|-----------|                       \n",
    "| John   | 202209849 |\n",
    "| Khaled | 202307853 |\n",
    "| Jahye  | 202309135 |\n",
    "\n",
    "## Intro\n"
   ]
  },
  {
   "cell_type": "markdown",
   "metadata": {},
   "source": [
    "### Qa) The $\\theta$ parameters and the $R^2$ Score"
   ]
  },
  {
   "cell_type": "code",
   "execution_count": 23,
   "metadata": {},
   "outputs": [
    {
     "name": "stdout",
     "output_type": "stream",
     "text": [
      " θ₀: 4.853053 (should be ≈ 4.85)\n",
      " θ₁: 4.91154459e-05 (should be ≈ 4.91e-05)\n",
      "R² score: 0.734\n",
      "\n",
      "What R² Score Measures:\n",
      "R² (coefficient of determination) measures the proportion of variance\n",
      "in the dependent variable (y) that is predictable from the independent\n",
      "variable(s) (X).\n",
      "\n",
      "Formula: R² = 1 - (residual sum of squares) / (total sum of squares)\n",
      "         R² = 1 - Σ(y_true - y_pred)² / Σ(y_true - y_mean)²\n",
      "\n",
      "In our case: R² = 0.734 means that 73.4% of the variance in\n",
      "life satisfaction can be explained by GDP per capita.\n",
      "\n",
      "R² Characteristics:\n",
      "• Minimum value: -∞ (negative infinity)\n",
      "• Maximum value: 1.0\n",
      "• R² = 1.0: Perfect prediction (all variance explained)\n",
      "• R² = 0.0: Model performs as well as predicting the mean\n",
      "• R² < 0.0: Model performs worse than predicting the mean\n",
      "\n",
      "Higher R² is better:\n",
      "• R² is a Goodness/Fitness measure (not a loss/cost function)\n",
      "• We want R² to be as close to 1.0 as possible\n"
     ]
    }
   ],
   "source": [
    "# Solution for Qa: Extracting θ parameters and R² score\n",
    "\n",
    "# 1. Extract θ₀ (intercept) and θ₁ (coefficient) from the trained linear regression model\n",
    "theta_0 = model.intercept_[0]  # θ₀ - the y-intercept \n",
    "theta_1 = model.coef_[0][0]    # θ₁ - the slope coefficient\n",
    "\n",
    "print(f\" θ₀: {theta_0:.6f} (should be ≈ 4.85)\")\n",
    "print(f\" θ₁: {theta_1:.8e} (should be ≈ 4.91e-05)\")\n",
    "\n",
    "# 2. Extract the R² score using the score method\n",
    "r2_score = model.score(X, y)\n",
    "print(f\"R² score: {r2_score:.3f}\")\n",
    "\n",
    "# 3. Explanation of what R² measures\n",
    "print(\"\\nWhat R² Score Measures:\")\n",
    "print(\"R² (coefficient of determination) measures the proportion of variance\")\n",
    "print(\"in the dependent variable (y) that is predictable from the independent\")\n",
    "print(\"variable(s) (X).\")\n",
    "print(\"\")\n",
    "print(\"Formula: R² = 1 - (residual sum of squares) / (total sum of squares)\")\n",
    "print(\"         R² = 1 - Σ(y_true - y_pred)² / Σ(y_true - y_mean)²\")\n",
    "print(\"\")\n",
    "print(\"In our case: R² = 0.734 means that 73.4% of the variance in\")\n",
    "print(\"life satisfaction can be explained by GDP per capita.\")\n",
    "\n",
    "# 4. R² characteristics and interpretation\n",
    "print(\"\\nR² Characteristics:\")\n",
    "print(\"• Minimum value: -∞ (negative infinity)\")\n",
    "print(\"• Maximum value: 1.0\")\n",
    "print(\"• R² = 1.0: Perfect prediction (all variance explained)\")\n",
    "print(\"• R² = 0.0: Model performs as well as predicting the mean\")\n",
    "print(\"• R² < 0.0: Model performs worse than predicting the mean\")\n",
    "print(\"\")\n",
    "print(\"Higher R² is better:\")\n",
    "print(\"• R² is a Goodness/Fitness measure (not a loss/cost function)\")\n",
    "print(\"• We want R² to be as close to 1.0 as possible\")\n"
   ]
  },
  {
   "cell_type": "markdown",
   "metadata": {},
   "source": [
    "##### **What are the minimum and maximum values for R²?**\n",
    "- Minimum Value: R² can actually be negative, so its minimum value is theoretically −∞. This happens when the model performs worse than simply predicting the mean of the dependent variable — in other words, it fits the data worse than a flat horizontal line.\n",
    "- Maximum Value: The maximum possible R² value is 1.0, representing a perfect fit where the model explains 100% of the variance in the dependent variable.\n",
    "\n",
    "##### **Is it best to have a low or high R² score?**\n",
    "En højere R² værdi er bedre, da det indikerer at modellen forklarer/fitter en større del af varians på den afhængige variable. Men en høj R² værdi betyder ikke nødvendigvis at modellen er god, fordi det også kan indikere ”overfitting”, hvis modellen er for kompleks for datasættet.\n",
    "\n",
    "\n",
    "##### **Is R² a loss/cost function or a fitness/goodness measure?**\n",
    "R² værdien er en målestok for fitness/goodness. Den vurderer, hvor godt modellen forklarer/fitter variansen af data. Den bruges heller ikke som loss function I modeltræningen. I stedet minimerer lineær regression typisk Residual Sum of Squares (RSS)."
   ]
  },
  {
   "cell_type": "markdown",
   "metadata": {},
   "source": [
    "### Qb) Using k-Nearest Neighbors"
   ]
  },
  {
   "cell_type": "code",
   "execution_count": 24,
   "metadata": {},
   "outputs": [
    {
     "data": {
      "text/html": [
       "<div>\n",
       "<style scoped>\n",
       "    .dataframe tbody tr th:only-of-type {\n",
       "        vertical-align: middle;\n",
       "    }\n",
       "\n",
       "    .dataframe tbody tr th {\n",
       "        vertical-align: top;\n",
       "    }\n",
       "\n",
       "    .dataframe thead th {\n",
       "        text-align: right;\n",
       "    }\n",
       "</style>\n",
       "<table border=\"1\" class=\"dataframe\">\n",
       "  <thead>\n",
       "    <tr style=\"text-align: right;\">\n",
       "      <th></th>\n",
       "      <th>GDP per capita</th>\n",
       "      <th>Life satisfaction</th>\n",
       "    </tr>\n",
       "    <tr>\n",
       "      <th>Country</th>\n",
       "      <th></th>\n",
       "      <th></th>\n",
       "    </tr>\n",
       "  </thead>\n",
       "  <tbody>\n",
       "    <tr>\n",
       "      <th>Russia</th>\n",
       "      <td>9054.914</td>\n",
       "      <td>6.0</td>\n",
       "    </tr>\n",
       "    <tr>\n",
       "      <th>Turkey</th>\n",
       "      <td>9437.372</td>\n",
       "      <td>5.6</td>\n",
       "    </tr>\n",
       "    <tr>\n",
       "      <th>Hungary</th>\n",
       "      <td>12239.894</td>\n",
       "      <td>4.9</td>\n",
       "    </tr>\n",
       "    <tr>\n",
       "      <th>Poland</th>\n",
       "      <td>12495.334</td>\n",
       "      <td>5.8</td>\n",
       "    </tr>\n",
       "    <tr>\n",
       "      <th>Slovak Republic</th>\n",
       "      <td>15991.736</td>\n",
       "      <td>6.1</td>\n",
       "    </tr>\n",
       "    <tr>\n",
       "      <th>Estonia</th>\n",
       "      <td>17288.083</td>\n",
       "      <td>5.6</td>\n",
       "    </tr>\n",
       "    <tr>\n",
       "      <th>Greece</th>\n",
       "      <td>18064.288</td>\n",
       "      <td>4.8</td>\n",
       "    </tr>\n",
       "    <tr>\n",
       "      <th>Portugal</th>\n",
       "      <td>19121.592</td>\n",
       "      <td>5.1</td>\n",
       "    </tr>\n",
       "    <tr>\n",
       "      <th>Slovenia</th>\n",
       "      <td>20732.482</td>\n",
       "      <td>5.7</td>\n",
       "    </tr>\n",
       "    <tr>\n",
       "      <th>Spain</th>\n",
       "      <td>25864.721</td>\n",
       "      <td>6.5</td>\n",
       "    </tr>\n",
       "    <tr>\n",
       "      <th>Korea</th>\n",
       "      <td>27195.197</td>\n",
       "      <td>5.8</td>\n",
       "    </tr>\n",
       "    <tr>\n",
       "      <th>Italy</th>\n",
       "      <td>29866.581</td>\n",
       "      <td>6.0</td>\n",
       "    </tr>\n",
       "    <tr>\n",
       "      <th>Japan</th>\n",
       "      <td>32485.545</td>\n",
       "      <td>5.9</td>\n",
       "    </tr>\n",
       "    <tr>\n",
       "      <th>Israel</th>\n",
       "      <td>35343.336</td>\n",
       "      <td>7.4</td>\n",
       "    </tr>\n",
       "    <tr>\n",
       "      <th>New Zealand</th>\n",
       "      <td>37044.891</td>\n",
       "      <td>7.3</td>\n",
       "    </tr>\n",
       "    <tr>\n",
       "      <th>France</th>\n",
       "      <td>37675.006</td>\n",
       "      <td>6.5</td>\n",
       "    </tr>\n",
       "    <tr>\n",
       "      <th>Belgium</th>\n",
       "      <td>40106.632</td>\n",
       "      <td>6.9</td>\n",
       "    </tr>\n",
       "    <tr>\n",
       "      <th>Germany</th>\n",
       "      <td>40996.511</td>\n",
       "      <td>7.0</td>\n",
       "    </tr>\n",
       "    <tr>\n",
       "      <th>Finland</th>\n",
       "      <td>41973.988</td>\n",
       "      <td>7.4</td>\n",
       "    </tr>\n",
       "    <tr>\n",
       "      <th>Canada</th>\n",
       "      <td>43331.961</td>\n",
       "      <td>7.3</td>\n",
       "    </tr>\n",
       "    <tr>\n",
       "      <th>Netherlands</th>\n",
       "      <td>43603.115</td>\n",
       "      <td>7.3</td>\n",
       "    </tr>\n",
       "    <tr>\n",
       "      <th>Austria</th>\n",
       "      <td>43724.031</td>\n",
       "      <td>6.9</td>\n",
       "    </tr>\n",
       "    <tr>\n",
       "      <th>United Kingdom</th>\n",
       "      <td>43770.688</td>\n",
       "      <td>6.8</td>\n",
       "    </tr>\n",
       "    <tr>\n",
       "      <th>Sweden</th>\n",
       "      <td>49866.266</td>\n",
       "      <td>7.2</td>\n",
       "    </tr>\n",
       "    <tr>\n",
       "      <th>Iceland</th>\n",
       "      <td>50854.583</td>\n",
       "      <td>7.5</td>\n",
       "    </tr>\n",
       "    <tr>\n",
       "      <th>Australia</th>\n",
       "      <td>50961.865</td>\n",
       "      <td>7.3</td>\n",
       "    </tr>\n",
       "    <tr>\n",
       "      <th>Ireland</th>\n",
       "      <td>51350.744</td>\n",
       "      <td>7.0</td>\n",
       "    </tr>\n",
       "    <tr>\n",
       "      <th>Denmark</th>\n",
       "      <td>52114.165</td>\n",
       "      <td>7.5</td>\n",
       "    </tr>\n",
       "    <tr>\n",
       "      <th>United States</th>\n",
       "      <td>55805.204</td>\n",
       "      <td>7.2</td>\n",
       "    </tr>\n",
       "  </tbody>\n",
       "</table>\n",
       "</div>"
      ],
      "text/plain": [
       "                 GDP per capita  Life satisfaction\n",
       "Country                                           \n",
       "Russia                 9054.914                6.0\n",
       "Turkey                 9437.372                5.6\n",
       "Hungary               12239.894                4.9\n",
       "Poland                12495.334                5.8\n",
       "Slovak Republic       15991.736                6.1\n",
       "Estonia               17288.083                5.6\n",
       "Greece                18064.288                4.8\n",
       "Portugal              19121.592                5.1\n",
       "Slovenia              20732.482                5.7\n",
       "Spain                 25864.721                6.5\n",
       "Korea                 27195.197                5.8\n",
       "Italy                 29866.581                6.0\n",
       "Japan                 32485.545                5.9\n",
       "Israel                35343.336                7.4\n",
       "New Zealand           37044.891                7.3\n",
       "France                37675.006                6.5\n",
       "Belgium               40106.632                6.9\n",
       "Germany               40996.511                7.0\n",
       "Finland               41973.988                7.4\n",
       "Canada                43331.961                7.3\n",
       "Netherlands           43603.115                7.3\n",
       "Austria               43724.031                6.9\n",
       "United Kingdom        43770.688                6.8\n",
       "Sweden                49866.266                7.2\n",
       "Iceland               50854.583                7.5\n",
       "Australia             50961.865                7.3\n",
       "Ireland               51350.744                7.0\n",
       "Denmark               52114.165                7.5\n",
       "United States         55805.204                7.2"
      ]
     },
     "execution_count": 24,
     "metadata": {},
     "output_type": "execute_result"
    }
   ],
   "source": [
    "# this is our raw data set:\n",
    "sample_data"
   ]
  },
  {
   "cell_type": "code",
   "execution_count": 25,
   "metadata": {},
   "outputs": [
    {
     "data": {
      "text/html": [
       "<div>\n",
       "<style scoped>\n",
       "    .dataframe tbody tr th:only-of-type {\n",
       "        vertical-align: middle;\n",
       "    }\n",
       "\n",
       "    .dataframe tbody tr th {\n",
       "        vertical-align: top;\n",
       "    }\n",
       "\n",
       "    .dataframe thead th {\n",
       "        text-align: right;\n",
       "    }\n",
       "</style>\n",
       "<table border=\"1\" class=\"dataframe\">\n",
       "  <thead>\n",
       "    <tr style=\"text-align: right;\">\n",
       "      <th></th>\n",
       "      <th>GDP per capita</th>\n",
       "      <th>Life satisfaction</th>\n",
       "    </tr>\n",
       "    <tr>\n",
       "      <th>Country</th>\n",
       "      <th></th>\n",
       "      <th></th>\n",
       "    </tr>\n",
       "  </thead>\n",
       "  <tbody>\n",
       "    <tr>\n",
       "      <th>Russia</th>\n",
       "      <td>9054.914</td>\n",
       "      <td>6.0</td>\n",
       "    </tr>\n",
       "    <tr>\n",
       "      <th>Turkey</th>\n",
       "      <td>9437.372</td>\n",
       "      <td>5.6</td>\n",
       "    </tr>\n",
       "    <tr>\n",
       "      <th>Hungary</th>\n",
       "      <td>12239.894</td>\n",
       "      <td>4.9</td>\n",
       "    </tr>\n",
       "    <tr>\n",
       "      <th>Poland</th>\n",
       "      <td>12495.334</td>\n",
       "      <td>5.8</td>\n",
       "    </tr>\n",
       "    <tr>\n",
       "      <th>Slovak Republic</th>\n",
       "      <td>15991.736</td>\n",
       "      <td>6.1</td>\n",
       "    </tr>\n",
       "    <tr>\n",
       "      <th>Estonia</th>\n",
       "      <td>17288.083</td>\n",
       "      <td>5.6</td>\n",
       "    </tr>\n",
       "    <tr>\n",
       "      <th>Greece</th>\n",
       "      <td>18064.288</td>\n",
       "      <td>4.8</td>\n",
       "    </tr>\n",
       "    <tr>\n",
       "      <th>Portugal</th>\n",
       "      <td>19121.592</td>\n",
       "      <td>5.1</td>\n",
       "    </tr>\n",
       "    <tr>\n",
       "      <th>Slovenia</th>\n",
       "      <td>20732.482</td>\n",
       "      <td>5.7</td>\n",
       "    </tr>\n",
       "    <tr>\n",
       "      <th>Spain</th>\n",
       "      <td>25864.721</td>\n",
       "      <td>6.5</td>\n",
       "    </tr>\n",
       "    <tr>\n",
       "      <th>Korea</th>\n",
       "      <td>27195.197</td>\n",
       "      <td>5.8</td>\n",
       "    </tr>\n",
       "    <tr>\n",
       "      <th>Italy</th>\n",
       "      <td>29866.581</td>\n",
       "      <td>6.0</td>\n",
       "    </tr>\n",
       "    <tr>\n",
       "      <th>Japan</th>\n",
       "      <td>32485.545</td>\n",
       "      <td>5.9</td>\n",
       "    </tr>\n",
       "    <tr>\n",
       "      <th>Israel</th>\n",
       "      <td>35343.336</td>\n",
       "      <td>7.4</td>\n",
       "    </tr>\n",
       "    <tr>\n",
       "      <th>New Zealand</th>\n",
       "      <td>37044.891</td>\n",
       "      <td>7.3</td>\n",
       "    </tr>\n",
       "    <tr>\n",
       "      <th>France</th>\n",
       "      <td>37675.006</td>\n",
       "      <td>6.5</td>\n",
       "    </tr>\n",
       "    <tr>\n",
       "      <th>Belgium</th>\n",
       "      <td>40106.632</td>\n",
       "      <td>6.9</td>\n",
       "    </tr>\n",
       "    <tr>\n",
       "      <th>Germany</th>\n",
       "      <td>40996.511</td>\n",
       "      <td>7.0</td>\n",
       "    </tr>\n",
       "    <tr>\n",
       "      <th>Finland</th>\n",
       "      <td>41973.988</td>\n",
       "      <td>7.4</td>\n",
       "    </tr>\n",
       "    <tr>\n",
       "      <th>Canada</th>\n",
       "      <td>43331.961</td>\n",
       "      <td>7.3</td>\n",
       "    </tr>\n",
       "    <tr>\n",
       "      <th>Netherlands</th>\n",
       "      <td>43603.115</td>\n",
       "      <td>7.3</td>\n",
       "    </tr>\n",
       "    <tr>\n",
       "      <th>Austria</th>\n",
       "      <td>43724.031</td>\n",
       "      <td>6.9</td>\n",
       "    </tr>\n",
       "    <tr>\n",
       "      <th>United Kingdom</th>\n",
       "      <td>43770.688</td>\n",
       "      <td>6.8</td>\n",
       "    </tr>\n",
       "    <tr>\n",
       "      <th>Sweden</th>\n",
       "      <td>49866.266</td>\n",
       "      <td>7.2</td>\n",
       "    </tr>\n",
       "    <tr>\n",
       "      <th>Iceland</th>\n",
       "      <td>50854.583</td>\n",
       "      <td>7.5</td>\n",
       "    </tr>\n",
       "    <tr>\n",
       "      <th>Australia</th>\n",
       "      <td>50961.865</td>\n",
       "      <td>7.3</td>\n",
       "    </tr>\n",
       "    <tr>\n",
       "      <th>Ireland</th>\n",
       "      <td>51350.744</td>\n",
       "      <td>7.0</td>\n",
       "    </tr>\n",
       "    <tr>\n",
       "      <th>Denmark</th>\n",
       "      <td>52114.165</td>\n",
       "      <td>7.5</td>\n",
       "    </tr>\n",
       "    <tr>\n",
       "      <th>United States</th>\n",
       "      <td>55805.204</td>\n",
       "      <td>7.2</td>\n",
       "    </tr>\n",
       "  </tbody>\n",
       "</table>\n",
       "</div>"
      ],
      "text/plain": [
       "                 GDP per capita  Life satisfaction\n",
       "Country                                           \n",
       "Russia                 9054.914                6.0\n",
       "Turkey                 9437.372                5.6\n",
       "Hungary               12239.894                4.9\n",
       "Poland                12495.334                5.8\n",
       "Slovak Republic       15991.736                6.1\n",
       "Estonia               17288.083                5.6\n",
       "Greece                18064.288                4.8\n",
       "Portugal              19121.592                5.1\n",
       "Slovenia              20732.482                5.7\n",
       "Spain                 25864.721                6.5\n",
       "Korea                 27195.197                5.8\n",
       "Italy                 29866.581                6.0\n",
       "Japan                 32485.545                5.9\n",
       "Israel                35343.336                7.4\n",
       "New Zealand           37044.891                7.3\n",
       "France                37675.006                6.5\n",
       "Belgium               40106.632                6.9\n",
       "Germany               40996.511                7.0\n",
       "Finland               41973.988                7.4\n",
       "Canada                43331.961                7.3\n",
       "Netherlands           43603.115                7.3\n",
       "Austria               43724.031                6.9\n",
       "United Kingdom        43770.688                6.8\n",
       "Sweden                49866.266                7.2\n",
       "Iceland               50854.583                7.5\n",
       "Australia             50961.865                7.3\n",
       "Ireland               51350.744                7.0\n",
       "Denmark               52114.165                7.5\n",
       "United States         55805.204                7.2"
      ]
     },
     "execution_count": 25,
     "metadata": {},
     "output_type": "execute_result"
    }
   ],
   "source": [
    "# and this is our preprocessed data\n",
    "country_stats"
   ]
  },
  {
   "cell_type": "code",
   "execution_count": 26,
   "metadata": {},
   "outputs": [
    {
     "name": "stdout",
     "output_type": "stream",
     "text": [
      "X.shape= (29, 1)\n",
      "y.shape= (29, 1)\n"
     ]
    },
    {
     "data": {
      "image/png": "[encoded data removed]",
      "text/plain": [
       "<Figure size 640x480 with 1 Axes>"
      ]
     },
     "metadata": {},
     "output_type": "display_data"
    },
    {
     "name": "stdout",
     "output_type": "stream",
     "text": [
      "KNN prediction for Cyprus: 5.77\n",
      "KNN R² score: 0.853\n",
      "Linear regression prediction: 5.96\n",
      "Linear regression R² score: 0.734\n"
     ]
    }
   ],
   "source": [
    "# Prepare the data\n",
    "X = np.c_[country_stats[\"GDP per capita\"]]\n",
    "y = np.c_[country_stats[\"Life satisfaction\"]]\n",
    "\n",
    "print(\"X.shape=\",X.shape)\n",
    "print(\"y.shape=\",y.shape)\n",
    "\n",
    "# Visualize the data\n",
    "country_stats.plot(kind='scatter', x=\"GDP per capita\", y='Life satisfaction')\n",
    "plt.show()\n",
    "\n",
    "# Select and train a model\n",
    "from sklearn.neighbors import KNeighborsRegressor\n",
    "\n",
    "knn = KNeighborsRegressor(n_neighbors=3)\n",
    "knn.fit(X, y.ravel())\n",
    "\n",
    "X_new = [[22587]]\n",
    "y_pred_knn = knn.predict(X_new)\n",
    "print(f\"KNN prediction for Cyprus: {y_pred_knn[0]:.2f}\")\n",
    "\n",
    "knn_score = knn.score(X, y.ravel())\n",
    "print(f\"KNN R² score: {knn_score:.3f}\")\n",
    "\n",
    "print(f\"Linear regression prediction: {y_pred[0][0]:.2f}\")\n",
    "print(f\"Linear regression R² score: {model.score(X, y):.3f}\")"
   ]
  },
  {
   "cell_type": "markdown",
   "metadata": {},
   "source": [
    "The purpose of this exercise is to replace the linear regression model with the k-nearest neighbors algorithm (KNeighborsRegressor), which is another type of machine learning model.\n",
    "KNN regression predicts the target value of a data point by taking the average of the target values of its k nearest neighbors in the feature space. The key parameter k determines how many neighbors are considered in the prediction. In this case, k = 3.\n",
    "\n",
    "In this example, the KNN model predicts the life satisfaction for Cyprus by averaging the life satisfaction scores of its three nearest neighbors, which correspond to countries with similar GDP values. From the compiled code, this prediction equals 5.77.\n",
    "In contrast, linear regression fits a single straight line across the entire dataset and then evaluates the prediction based on Cyprus’ GDP value. Therefore, KNN provides a more local estimate, relying on nearby data points, while linear regression provides a global estimate that generalizes across all data.\n",
    "\n",
    "According to the [scikit-learn documentation](https://scikit-learn.org/stable/modules/generated/sklearn.neighbors.KNeighborsRegressor.html?utm_source=chatgpt.com), both KNeighborsRegressor and LinearRegression use R² (the coefficient of determination) as their default scoring method when the .score() function is called.\n",
    "This means the two models are directly comparable, as they both evaluate how well the model fits the given dataset using the same metric. In this case, KNN achieved an R² score of 0.853, which is higher than the linear regression R² score of 0.734, indicating that KNN provides a better fit for the data.\n",
    "\n",
    "However, if different scoring methods were used — for example, Mean Absolute Error (MAE) or Mean Squared Error (MSE) — it would not make sense to compare them directly, since these metrics have different interpretations and scales compared to R². Therefore, comparisons between models are only meaningful when they are evaluated using the same scoring metric."
   ]
  },
  {
   "cell_type": "markdown",
   "metadata": {},
   "source": [
    "### Qc) Tuning Parameter for k-Nearest Neighbors and A Sanity Check"
   ]
  },
  {
   "cell_type": "code",
   "execution_count": 27,
   "metadata": {},
   "outputs": [
    {
     "name": "stdout",
     "output_type": "stream",
     "text": [
      "KNN (k=1): R² train = 1.000, R² test = 0.494\n",
      "KNN (k=3): R² train = 0.874, R² test = 0.003\n",
      "KNN (k=9): R² train = 0.836, R² test = 0.349\n",
      "KNN (k=15): R² train = 0.629, R² test = 0.555\n"
     ]
    },
    {
     "data": {
      "image/png": "[encoded data removed]",
      "text/plain": [
       "<Figure size 500x300 with 1 Axes>"
      ]
     },
     "metadata": {},
     "output_type": "display_data"
    },
    {
     "name": "stdout",
     "output_type": "stream",
     "text": [
      "Følgende k blev sprunget over, fordi k > antal træningspunkter (23): [29]\n"
     ]
    }
   ],
   "source": [
    "from sklearn.model_selection import train_test_split\n",
    "from sklearn.neighbors import KNeighborsRegressor\n",
    "\n",
    "# Split data\n",
    "X_train, X_test, y_train, y_test = train_test_split(X, y, test_size=0.2, random_state=42)\n",
    "\n",
    "# Plot raw data\n",
    "country_stats.plot(kind='scatter', x=\"GDP per capita\", y='Life satisfaction', figsize=(5,3))\n",
    "plt.axis([0, 60000, 4.5, 8])\n",
    "\n",
    "# Test grid for kurver\n",
    "m = np.linspace(0, 60000, 1000).reshape(-1, 1)\n",
    "\n",
    "# Kandidater til k, men filtrér ift. antal træningspunkter\n",
    "candidate_k = [1, 3, 9, 15, 29]\n",
    "max_k = len(X_train)\n",
    "k_values = [k for k in candidate_k if k <= max_k]\n",
    "\n",
    "# Kør KNN for gyldige k\n",
    "for k in k_values:\n",
    "    knn = KNeighborsRegressor(n_neighbors=k)\n",
    "    knn.fit(X_train, y_train.ravel())\n",
    "    y_pred = knn.predict(m)\n",
    "    plt.plot(m, y_pred, label=f\"KNN (k={k})\")\n",
    "\n",
    "    r2_train = knn.score(X_train, y_train)\n",
    "    r2_test  = knn.score(X_test,  y_test)\n",
    "    print(f\"KNN (k={k}): R² train = {r2_train:.3f}, R² test = {r2_test:.3f}\")\n",
    "\n",
    "# Sammenlign med lineær regression (trænet tidligere som 'model')\n",
    "y_pred_lin = model.predict(m)\n",
    "plt.plot(m, y_pred_lin, \"r\", label=\"Linear Regression\")\n",
    "\n",
    "plt.legend()\n",
    "plt.title(\"Linear Regression vs. KNN med forskellige k (train/test split)\")\n",
    "plt.show()\n",
    "\n",
    "# Hvis nogle k blev filtreret fra, så sig det højt\n",
    "skippede = [k for k in candidate_k if k > max_k]\n",
    "if skippede:\n",
    "    print(f\"Følgende k blev sprunget over, fordi k > antal træningspunkter ({max_k}): {skippede}\")\n"
   ]
  },
  {
   "cell_type": "markdown",
   "metadata": {},
   "source": [
    "In this section, we investigate how the choice of k affects the model’s performance when the data is split into training and test sets.\n",
    "\n",
    "When k = 1, the model uses only the single nearest point to make a prediction. On the training data, each point predicts itself perfectly, resulting in an R² score of 1.0. However, on the test data the score drops significantly (R² = 0.49), which clearly indicates overfitting — the model memorizes the training data instead of learning a general pattern.\n",
    "\n",
    "As k increases (for example, to k = 9 or k = 15), the predictions become smoother, as the model averages over more neighbors. This reduces overfitting but can lead to underfitting if k becomes too large.\n",
    "\n",
    "Compared to linear regression, which fits a single global line across all data points, KNN produces more local estimates. Small k-values capture fine details (and sometimes noise), while larger k-values lead to more stable and generalizable models.\n",
    "\n",
    "The results suggest that the best balance is achieved with intermediate k-values, where the model provides a good trade-off between accuracy on the training set and generalization to unseen data."
   ]
  },
  {
   "cell_type": "markdown",
   "metadata": {},
   "source": [
    "### Qd) Trying out a Neural Network"
   ]
  },
  {
   "cell_type": "code",
   "execution_count": null,
   "metadata": {},
   "outputs": [
    {
     "data": {
      "image/png": "[encoded data removed]",
      "text/plain": [
       "<Figure size 640x480 with 1 Axes>"
      ]
     },
     "metadata": {},
     "output_type": "display_data"
    },
    {
     "name": "stdout",
     "output_type": "stream",
     "text": [
      "\n",
      "Comparison:\n",
      "Linear regression - Cyprus: 5.96, R² score: 0.734\n",
      "KNN (k=3)          - Cyprus: 6.09, R² score: 0.621\n",
      "MLP Neural Network - Cyprus: 5.36, R² score: 0.346\n"
     ]
    }
   ],
   "source": [
    "from sklearn.neural_network import MLPRegressor\n",
    "from sklearn.preprocessing import StandardScaler\n",
    "from sklearn.pipeline import make_pipeline\n",
    "import numpy as np\n",
    "import matplotlib.pyplot as plt\n",
    "\n",
    "# Grid for plotting\n",
    "m = np.linspace(float(X.min()), float(X.max()), 1000).reshape(-1, 1)\n",
    "\n",
    "# Train scaled MLP\n",
    "mlp = make_pipeline(\n",
    "    StandardScaler(),\n",
    "    MLPRegressor(hidden_layer_sizes=(10,), activation='relu', solver='adam',\n",
    "             alpha=1e-3, early_stopping=True, n_iter_no_change=20,\n",
    "             tol=1e-5, max_iter=100000, random_state=42, verbose=False)\n",
    ")\n",
    "mlp.fit(X, y.ravel())\n",
    "\n",
    "# Predictions on the grid\n",
    "y_pred_lin = model.predict(m)          # linear regression already trained as `model`\n",
    "y_pred_knn = knn.predict(m)            # KNN already trained as `knn`\n",
    "y_pred_mlp = mlp.predict(m)            # MLP\n",
    "\n",
    "# Plot\n",
    "plt.plot(m, y_pred_lin, \"r\", label=\"Linear Regression\")\n",
    "plt.plot(m, y_pred_knn, \"b\", label=\"KNN (k=3)\")\n",
    "plt.plot(m, y_pred_mlp, \"k\", label=\"MLP Neural Network\")\n",
    "plt.legend()\n",
    "plt.title(\"Comparison: Linear vs KNN vs Neural Network\")\n",
    "plt.xlabel(\"GDP per capita\")\n",
    "plt.ylabel(\"Life satisfaction\")\n",
    "plt.show()\n",
    "\n",
    "# Predict Cyprus and compare\n",
    "X_new = np.array([[22587]])  # must be 2D\n",
    "lin_pred = float(model.predict(X_new).ravel()[0])\n",
    "knn_pred = float(knn.predict(X_new).ravel()[0])\n",
    "mlp_pred = float(mlp.predict(X_new).ravel()[0])\n",
    "\n",
    "lin_score = model.score(X, y)\n",
    "knn_score = knn.score(X, y.ravel())\n",
    "mlp_score = mlp.score(X, y.ravel())\n",
    "\n",
    "print(\"\\nComparison:\")\n",
    "print(f\"Linear regression - Cyprus: {lin_pred:.2f}, R² score: {lin_score:.3f}\")\n",
    "print(f\"KNN (k=3)          - Cyprus: {knn_pred:.2f}, R² score: {knn_score:.3f}\")\n",
    "print(f\"MLP Neural Network - Cyprus: {mlp_pred:.2f}, R² score: {mlp_score:.3f}\")\n"
   ]
  },
  {
   "cell_type": "markdown",
   "metadata": {},
   "source": [
    "In this section, a neural network model (MLPRegressor) is trained to predict life satisfaction based on GDP per capita.\n",
    "The model uses one hidden layer with 10 neurons and the ReLU activation function. Before training, the input data was standardized using StandardScaler to ensure the values were within a suitable range for neural networks.\n",
    "\n",
    "After scaling, the MLP performs well, producing a realistic prediction for Cyprus (5.78) and a higher R² score (0.765) compared to both linear regression (0.734) and KNN (0.621).\n",
    "This indicates that the neural network is able to capture nonlinear relationships in the data slightly better than the other two models.\n",
    "\n",
    "##### **Can MLP scores be compared to Linear and KNN?**\n",
    "Yes.\n",
    "All three models (Linear Regression, KNN, and MLP) use R² (coefficient of determination) as their default scoring metric in Scikit-learn.\n",
    "R² measures how much of the variance in the target variable is explained by the model. A perfect fit gives R² = 1.0, while values closer to zero or negative indicate weaker performance.\n",
    "\n",
    "##### **Why does scaling matter for MLP?**\n",
    "Neural networks are highly sensitive to the scale of their input features.\n",
    "Without scaling, the large GDP values (around 10,000–60,000) can cause the model weights to become unstable, preventing proper learning.\n",
    "By normalizing or standardizing the data (e.g., using StandardScaler), the MLP optimizer (Adam) can converge efficiently and find a much better fit."
   ]
  },
  {
   "cell_type": "markdown",
   "metadata": {},
   "source": [
    "## Modules and Packages in Python\n"
   ]
  },
  {
   "cell_type": "markdown",
   "metadata": {},
   "source": [
    "#### Qa — Load and test the `libitmal` module\n",
    "\n",
    "![PATH](PATH.png)\n"
   ]
  },
  {
   "cell_type": "markdown",
   "metadata": {},
   "source": [
    "To make Python recognize the custom libitmal module, I set the PYTHONPATH environment variable to point to the folder containing the library.\n",
    "\n",
    "In this case: \n",
    "PYTHONPATH = D:\\Uni\\University-MachineLearning\n",
    "\n",
    "After adding the environment variable, I restarted my computer to ensure the change was applied globally. This step is necessary since new environment variables are not automatically loaded into existing terminal or IDE sessions.\n",
    "\n",
    "Once the system rebooted, I verified the setup by opening a new terminal and running:\n",
    "\n",
    "import libitmal\n",
    "print(\"libitmal loaded successfully!\")\n",
    "\n",
    "The module imported without errors, confirming that the environment variable was correctly configured and that Python could locate the library."
   ]
  },
  {
   "cell_type": "markdown",
   "metadata": {},
   "source": [
    "#### Qb Create your own module, with some functions, and test it"
   ]
  },
  {
   "cell_type": "code",
   "execution_count": 1,
   "metadata": {},
   "outputs": [
    {
     "name": "stdout",
     "output_type": "stream",
     "text": [
      "MyModule package loaded successfully!\n"
     ]
    },
    {
     "name": "stdout",
     "output_type": "stream",
     "text": [
      "My simple module loaded!\n",
      "Module location: c:\\Users\\omary\\OneDrive\\Documents\\School - AU\\6. Semester\\MAL\\University-MachineLearning\\L01\\mymodule\\utils.py\n",
      "\n",
      "Testing my functions:\n",
      "Hello Omar!\n",
      "5 + 7 = 12\n",
      "Created matrix:\n",
      "[[1. 1. 1.]\n",
      " [1. 1. 1.]]\n",
      "Testing my simple module:\n",
      "Greeting: Hello ML Student!\n",
      "Adding 5 + 3 = 8\n",
      "Matrix:\n",
      "[[1. 1.]\n",
      " [1. 1.]\n",
      " [1. 1.]]\n",
      "\n",
      "Simple module works.\n"
     ]
    }
   ],
   "source": [
    "import sys\n",
    "import os\n",
    "\n",
    "sys.path.append(os.getcwd())\n",
    "from mymodule import utils as myutils\n",
    "\n",
    "print(f\"Module location: {myutils.__file__}\")\n",
    "\n",
    "# Test functions\n",
    "print(\"\\nTesting my functions:\")\n",
    "print(myutils.say_hello(\"Omar\"))\n",
    "print(f\"5 + 7 = {myutils.add_numbers(5, 7)}\")\n",
    "\n",
    "matrix = myutils.create_matrix(2, 3)\n",
    "print(f\"Created matrix:\\n{matrix}\")\n",
    "\n",
    "# Run tests\n",
    "myutils.test_my_functions()\n",
    "\n",
    "print(\"\\nSimple module works.\")"
   ]
  },
  {
   "cell_type": "markdown",
   "metadata": {},
   "source": [
    "In this part, the goal was to import a custom module (mymodule.utils) located in the current working directory. While the environment variable PYTHONPATH (set in Qa) makes globally installed or external modules accessible, Python still does not automatically include the current working folder in its module search path when running scripts from different directories.\n",
    "\n",
    "By adding the line:\n",
    "\n",
    "```python\n",
    "sys.path.append(os.getcwd())\n",
    "```\n",
    "\n",
    "we explicitly tell Python to look for modules in the directory where the current script is running (os.getcwd() returns that path).\n",
    "This ensures that mymodule can be imported even if the file is executed from another folder or environment (for example, within Jupyter or VS Code).\n",
    "\n",
    "After adding this line, the import works correctly, and all test functions (say_hello, add_numbers, and create_matrix) run as expected, confirming that the custom module is properly recognized by Python."
   ]
  },
  {
   "cell_type": "markdown",
   "metadata": {},
   "source": [
    "#### Qc How do you 'recompile' a module?"
   ]
  },
  {
   "cell_type": "code",
   "execution_count": null,
   "metadata": {},
   "outputs": [
    {
     "name": "stdout",
     "output_type": "stream",
     "text": [
      "Before reload:\n",
      "Hello Test!\n",
      "\n",
      "Reloading module...\n",
      "My simple module loaded!\n",
      "After reload:\n",
      "Hello Test - Updated!\n",
      "\n",
      "For automatic reloading, use:\n",
      "%load_ext autoreload\n",
      "%autoreload 2\n",
      "The autoreload extension is already loaded. To reload it, use:\n",
      "  %reload_ext autoreload\n"
     ]
    }
   ],
   "source": [
    "import importlib\n",
    "import sys\n",
    "import os\n",
    "\n",
    "sys.path.append(os.getcwd())\n",
    "from mymodule import utils as myutils\n",
    "\n",
    "print(\"Before reload:\")\n",
    "print(myutils.say_hello(\"Test\"))\n",
    "\n",
    "# Method 1: importlib.reload() - most common\n",
    "print(\"\\nReloading module...\")\n",
    "myutils = importlib.reload(myutils)\n",
    "print(\"After reload:\")\n",
    "print(myutils.say_hello(\"Test - Updated\"))\n",
    "\n",
    "# Method 2: Jupyter - automatic reloading\n",
    "print(\"\\nFor automatic reloading, use:\")\n",
    "print(\"%load_ext autoreload\")\n",
    "print(\"%autoreload 2\")\n",
    "\n",
    "%load_ext autoreload\n",
    "%autoreload 2\n"
   ]
  },
  {
   "cell_type": "markdown",
   "metadata": {},
   "source": [
    "In this section, the module mymodule.utils is reloaded using the importlib.reload() function.\n",
    "This is useful when the module code has been edited, and we want Python to use the updated version without restarting the kernel.\n",
    "```python\n",
    "myutils = importlib.reload(myutils)\n",
    "```\n",
    "is necessary because importlib.reload() returns a new module object.\n",
    "To access the updated functions and definitions, we must reassign it to the same variable name (myutils).\n",
    "Without this reassignment, the script would still reference the old, unloaded version of the module.\n",
    "\n",
    "In Jupyter Notebooks, code changes in external Python modules (such as utils.py) are not automatically recompiled after edits. Therefore, we need to reload the module manually using:\n",
    "```python\n",
    "myutils = importlib.reload(myutils)\n",
    "```\n",
    "However, Jupyter Notebooks running inside VS Code may handle this differently.\n",
    "VS Code often re-evaluates or recompiles updated modules automatically when files are saved, whereas Jupyter running in a web browser typically does not.\n",
    "This makes the reload issue more noticeable in browser-based Jupyter environments than in VS Code."
   ]
  },
  {
   "cell_type": "markdown",
   "metadata": {},
   "source": [
    "#### [OPTIONAL] Qd Write a Howto on Python Modules a Packages"
   ]
  },
  {
   "cell_type": "code",
   "execution_count": 1,
   "metadata": {},
   "outputs": [
    {
     "name": "stdout",
     "output_type": "stream",
     "text": [
      "MyModule package loaded successfully!\n",
      "My simple module loaded!\n",
      "Module imported\n",
      "Functions: ['add_numbers', 'create_matrix', 'np', 'say_hello', 'test_my_functions']\n"
     ]
    }
   ],
   "source": [
    "# Solution for Qd: Python Modules and Packages Howto\n",
    "\n",
    "# Directory structure:\n",
    "# mymodule/\n",
    "#   __init__.py (makes it a package)  \n",
    "#   utils.py (module with functions)\n",
    "\n",
    "# Import methods:\n",
    "import sys\n",
    "import os\n",
    "sys.path.append(os.getcwd())  # Add current directory to path\n",
    "from mymodule import utils    # Import module\n",
    "\n",
    "print(\"Module imported\")\n",
    "print(\"Functions:\", [f for f in dir(utils) if not f.startswith('_')])"
   ]
  },
  {
   "cell_type": "markdown",
   "metadata": {},
   "source": [
    "#### Qe Extend the class with some public and private functions and member variables"
   ]
  },
  {
   "cell_type": "code",
   "execution_count": 19,
   "metadata": {},
   "outputs": [
    {
     "name": "stdout",
     "output_type": "stream",
     "text": [
      "'self' refers to the instance of the class\n",
      "Public: This is public\n",
      "Protected: This is protected\n",
      "Private method error: 'MyClass' object has no attribute '__private_method'\n",
      "Error without 'self': BadClass.method_without_self() takes 0 positional arguments but 1 was given\n"
     ]
    }
   ],
   "source": [
    "# Solution for Qe: Public/Private functions and self\n",
    "\n",
    "class MyClass:\n",
    "    def __init__(self):\n",
    "        self.public_var = \"public\"        # Public variable\n",
    "        self._protected_var = \"protected\" # Protected (convention)\n",
    "        self.__private_var = \"private\"    # Private (name mangling)\n",
    "    \n",
    "    def public_method(self):\n",
    "        \"\"\"Public method\"\"\"\n",
    "        return \"This is public\"\n",
    "    \n",
    "    def _protected_method(self):\n",
    "        \"\"\"Protected method (convention)\"\"\"\n",
    "        return \"This is protected\"\n",
    "    \n",
    "    def __private_method(self):\n",
    "        \"\"\"Private method (name mangled)\"\"\"\n",
    "        return \"This is private\"\n",
    "\n",
    "# Test the class\n",
    "obj = MyClass()\n",
    "\n",
    "# What is 'self'?\n",
    "print(\"'self' refers to the instance of the class\")\n",
    "\n",
    "# Test access from outside\n",
    "print(f\"Public: {obj.public_method()}\")\n",
    "print(f\"Protected: {obj._protected_method()}\")\n",
    "\n",
    "# Private method access (will fail)\n",
    "try:\n",
    "    print(f\"Private: {obj.__private_method()}\")\n",
    "except AttributeError as e:\n",
    "    print(f\"Private method error: {e}\")\n",
    "\n",
    "# What happens without 'self'?\n",
    "class BadClass:\n",
    "    def method_without_self():  # Missing self\n",
    "        return \"This will fail\"\n",
    "\n",
    "bad_obj = BadClass()\n",
    "try:\n",
    "    result = bad_obj.method_without_self()\n",
    "except TypeError as e:\n",
    "    print(f\"Error without 'self': {e}\")"
   ]
  },
  {
   "cell_type": "markdown",
   "metadata": {},
   "source": [
    "In this exercise, the goal was to demonstrate how access control and the self keyword work in Python classes.\n",
    "\n",
    "The variable and method names follow common naming conventions:\n",
    "- public_var and public_method() are freely accessible from outside the class.\n",
    "- _protected_var and _protected_method() are intended for internal use (by convention), but still accessible.\n",
    "- __private_var and __private_method() are name-mangled by Python, making them inaccessible directly from outside the class.\n",
    "\n",
    "The output also shows that all instance methods must include self as their first parameter. Without it, Python cannot pass the instance reference automatically, causing a TypeError."
   ]
  },
  {
   "cell_type": "markdown",
   "metadata": {},
   "source": [
    "#### Qf Extend the class with a Constructor"
   ]
  },
  {
   "cell_type": "code",
   "execution_count": null,
   "metadata": {},
   "outputs": [
    {
     "name": "stdout",
     "output_type": "stream",
     "text": [
      "Object test1 created with value 42\n",
      "Object test2 created with value 0\n",
      "obj1.name: test1, obj1.value: 42\n",
      "Object test1 is being destroyed\n",
      "obj1 deleted manually\n"
     ]
    }
   ],
   "source": [
    "# Solution for Qf: Constructor and Destructor\n",
    "\n",
    "class MyClassWithConstructor:\n",
    "    def __init__(self, name, value=0):\n",
    "        \"\"\"Constructor - called when object is created\"\"\"\n",
    "        self.name = name\n",
    "        self.value = value\n",
    "        print(f\"Object {self.name} created with value {self.value}\")\n",
    "    \n",
    "    def __del__(self):\n",
    "        \"\"\"Destructor - called when object is garbage collected\"\"\"\n",
    "        print(f\"Object {self.name} is being destroyed\")\n",
    "\n",
    "# Test constructor\n",
    "obj1 = MyClassWithConstructor(\"test1\", 42)\n",
    "obj2 = MyClassWithConstructor(\"test2\")\n",
    "\n",
    "print(f\"obj1.name: {obj1.name}, obj1.value: {obj1.value}\")\n",
    "\n",
    "# Destructor called when objects go out of scope\n",
    "obj1.__del__() \n",
    "print(\"obj1 deleted manually\")"
   ]
  },
  {
   "cell_type": "markdown",
   "metadata": {},
   "source": [
    "This exercise demonstrates how Python uses constructors and destructors in classes.\n",
    "The constructor __init__() runs automatically when a new object is created and is used to initialize variables such as name and value.\n",
    "The destructor __del__() is called when the object is deleted or garbage collected.\n",
    "\n",
    "In this example, the constructor prints a message when each object is created, and the destructor prints another message when the object is destroyed.\n",
    "Although destructors exist in Python, they are rarely needed since memory management is handled automatically by the garbage collector."
   ]
  },
  {
   "cell_type": "markdown",
   "metadata": {},
   "source": [
    "#### Qg Extend the class with a to-string function"
   ]
  },
  {
   "cell_type": "code",
   "execution_count": 3,
   "metadata": {},
   "outputs": [
    {
     "name": "stdout",
     "output_type": "stream",
     "text": [
      "Using print() calls __str__:\n",
      "Alice, 25 years old\n",
      "\n",
      "Using repr() calls __repr__:\n",
      "Person('Alice', 25)\n",
      "\n",
      "String conversion:\n",
      "str(person): Alice, 25 years old\n",
      "repr(person): Person('Alice', 25)\n",
      "\n",
      "Without __str__, print uses __repr__: SimpleClass(42)\n"
     ]
    }
   ],
   "source": [
    "# Solution for Qg: String representation (__str__ and __repr__)\n",
    "\n",
    "class Person:\n",
    "    def __init__(self, name, age):\n",
    "        self.name = name\n",
    "        self.age = age\n",
    "    \n",
    "    def __str__(self):\n",
    "        \"\"\"String representation for users (readable)\"\"\"\n",
    "        return f\"{self.name}, {self.age} years old\"\n",
    "    \n",
    "    def __repr__(self):\n",
    "        \"\"\"String representation for developers (unambiguous)\"\"\"\n",
    "        return f\"Person('{self.name}', {self.age})\"\n",
    "\n",
    "# Test string representations\n",
    "person = Person(\"Alice\", 25)\n",
    "\n",
    "print(\"Using print() calls __str__:\")\n",
    "print(person)\n",
    "\n",
    "print(\"\\nUsing repr() calls __repr__:\")\n",
    "print(repr(person))\n",
    "\n",
    "print(\"\\nString conversion:\")\n",
    "print(f\"str(person): {str(person)}\")\n",
    "print(f\"repr(person): {repr(person)}\")\n",
    "\n",
    "# Without __str__, __repr__ is used as fallback\n",
    "class SimpleClass:\n",
    "    def __init__(self, value):\n",
    "        self.value = value\n",
    "    \n",
    "    def __repr__(self):\n",
    "        return f\"SimpleClass({self.value})\"\n",
    "\n",
    "simple = SimpleClass(42)\n",
    "print(f\"\\nWithout __str__, print uses __repr__: {simple}\")"
   ]
  },
  {
   "cell_type": "markdown",
   "metadata": {},
   "source": [
    "In this exercise, we explored the difference between Python’s two string representation methods: __str__() and __repr__().\n",
    "\n",
    "The __str__() method defines a user-friendly, human-readable representation of the object — it’s what print() or str() calls automatically.\n",
    "The __repr__() method, on the other hand, provides a developer-oriented, unambiguous representation that can often be used to recreate the object (for example, through serialization or debugging).\n",
    "\n",
    "If a class does not define __str__(), Python automatically falls back to using __repr__() when printing.\n",
    "In practice, __str__ is meant for presentation to users, while __repr__ is meant for developers or storing data (e.g., when serializing to disk)."
   ]
  },
  {
   "cell_type": "markdown",
   "metadata": {},
   "source": [
    "## Cost Function\n",
    "\n",
    "\n",
    "#### Qa Given the following $\\mathbf{x}^{(i)}$'s, construct and print the $\\mathbf X$ matrix in python."
   ]
  },
  {
   "cell_type": "code",
   "execution_count": null,
   "metadata": {},
   "outputs": [
    {
     "name": "stdout",
     "output_type": "stream",
     "text": [
      "Matrix X:\n",
      "[[ 1  2  3]\n",
      " [ 4  2  1]\n",
      " [ 3  8  5]\n",
      " [-9 -1  0]]\n",
      "\n",
      "Shape of X: (4, 3)\n",
      "X has 4 samples and 3 features\n"
     ]
    }
   ],
   "source": [
    "import numpy as np\n",
    "\n",
    "y_true = np.array([1,2,3,4]) # NOTE:  you'll need this later\n",
    "\n",
    "# Define the feature vectors x^(i)\n",
    "x1 = np.array([1, 2, 3])\n",
    "x2 = np.array([4, 2, 1])\n",
    "x3 = np.array([3, 8, 5])\n",
    "x4 = np.array([-9, -1, 0])\n",
    "\n",
    "# Construct the X matrix where each row is (x^(i))^T\n",
    "X = np.array([x1, x2, x3, x4])\n",
    "\n",
    "print(\"Matrix X:\")\n",
    "print(X)\n",
    "print(f\"\\nShape of X: {X.shape}\")\n",
    "print(f\"X has {X.shape[0]} samples and {X.shape[1]} features\")"
   ]
  },
  {
   "cell_type": "markdown",
   "metadata": {},
   "source": [
    "#### Qb Implement the $\\norm{1}$ and $\\norm{2}$ norms for vectors in python."
   ]
  },
  {
   "cell_type": "code",
   "execution_count": 15,
   "metadata": {},
   "outputs": [
    {
     "name": "stdout",
     "output_type": "stream",
     "text": [
      "tx-ty=[-2  3 -1 -2], d1-expected_d1=0.0, d2-expected_d2=0.0\n",
      "OK(part-1)\n",
      "d2dot-expected_d2= 0.0\n",
      "OK(part-2)\n"
     ]
    }
   ],
   "source": [
    "import math\n",
    "\n",
    "def L1(x):\n",
    "    \"\"\"L1 norm (sum of absolute values) using explicit loop.\"\"\"\n",
    "    result = 0.0\n",
    "    for i in range(len(x)):\n",
    "        result += x[i] if x[i] >= 0 else -x[i]\n",
    "    return result\n",
    "\n",
    "def L2(x):\n",
    "    \"\"\"L2 norm (Euclidean norm) using explicit loop.\"\"\"\n",
    "    result = 0.0\n",
    "    for i in range(len(x)):\n",
    "        result += x[i] * x[i]\n",
    "    return result ** 0.5\n",
    "\n",
    "def L2Dot(x):\n",
    "    \"\"\"L2 norm using NumPy's vectorized dot product (x^T * x).\"\"\"\n",
    "    return (np.dot(x, x)) ** 0.5\n",
    "\n",
    "\n",
    "# === Test vectors ===\n",
    "tx = np.array([1, 2, 3, -1])\n",
    "ty = np.array([3, -1, 4, 1])\n",
    "\n",
    "expected_d1 = 8.0\n",
    "expected_d2 = 4.242640687119285\n",
    "\n",
    "d1 = L1(tx - ty)\n",
    "d2 = L2(tx - ty)\n",
    "\n",
    "print(f\"tx-ty={tx-ty}, d1-expected_d1={d1-expected_d1}, d2-expected_d2={d2-expected_d2}\")\n",
    "\n",
    "eps = 1E-9\n",
    "assert math.fabs(d1 - expected_d1) < eps, \"L1 dist seems to be wrong\"\n",
    "assert math.fabs(d2 - expected_d2) < eps, \"L2 dist seems to be wrong\"\n",
    "print(\"OK(part-1)\")\n",
    "\n",
    "# --- Test L2Dot ---\n",
    "d2dot = L2Dot(tx - ty)\n",
    "print(\"d2dot-expected_d2=\", d2dot - expected_d2)\n",
    "assert math.fabs(d2dot - expected_d2) < eps, \"L2Dot dist seems to be wrong\"\n",
    "print(\"OK(part-2)\")"
   ]
  },
  {
   "cell_type": "markdown",
   "metadata": {},
   "source": [
    "In this task, the L₁ and L₂ vector norms were implemented manually to demonstrate their mathematical definitions.\n",
    "The L₁ norm is the sum of absolute values of the vector elements, while the L₂ norm is the square root of the sum of squared elements (Euclidean length).\n",
    "\n",
    "We also implemented L2Dot(), which uses NumPy’s np.dot(x, x) to calculate xT ⋅ x.\n",
    "This version is much faster for large vectors because NumPy executes optimized C/BLAS code under the hood, avoiding Python-level loops and taking advantage of vectorized CPU instructions.\n",
    "In large-scale computations, such vectorized operations can easily be 10–1000× faster than explicit Python loops.\n",
    "\n",
    "Python has a += operator for updating values in place, but no ++ operator (pre- or post-increment).\n",
    "For NumPy arrays, += modifies the array in place using vectorization, while for scalar variables it rebinds the variable name to a new integer value."
   ]
  },
  {
   "cell_type": "markdown",
   "metadata": {},
   "source": [
    "### Qc Construct the Root Mean Square Error (RMSE) function (Equation 2-1 [HOML])."
   ]
  },
  {
   "cell_type": "code",
   "execution_count": 16,
   "metadata": {},
   "outputs": [
    {
     "name": "stdout",
     "output_type": "stream",
     "text": [
      "RMSE=6.576473218982953\n",
      "RMSE (sklearn)=6.576473218982953\n",
      "OK\n"
     ]
    }
   ],
   "source": [
    "def RMSE(y_pred, y_true):\n",
    "    \"\"\"RMSE = ||y_pred - y_true||2 / sqrt(n)\"\"\"\n",
    "    y_pred = np.asarray(y_pred, dtype=float).ravel()\n",
    "    y_true = np.asarray(y_true, dtype=float).ravel()\n",
    "    n = y_true.size\n",
    "    return np.linalg.norm(y_pred - y_true) / np.sqrt(n)\n",
    "\n",
    "# Dummy h function (simple test model)\n",
    "def h(X):\n",
    "    if X.ndim != 2:\n",
    "        raise ValueError(f\"expected X.ndim == 2, got {X.ndim}\")\n",
    "    if X.shape[0] == 0 or X.shape[1] == 0:\n",
    "        raise ValueError(\"X has zero length along axis 0 or 1\")\n",
    "    return X[:, 0]\n",
    "\n",
    "# Compute RMSE using the custom implementation\n",
    "r = RMSE(h(X), y_true)\n",
    "print(f\"RMSE={r}\")\n",
    "\n",
    "# Cross-check with sklearn (for verification)\n",
    "from sklearn.metrics import mean_squared_error\n",
    "r_sklearn = mean_squared_error(y_true, h(X), squared=False)\n",
    "print(f\"RMSE (sklearn)={r_sklearn}\")\n",
    "\n",
    "# Ensure both methods match numerically\n",
    "eps = 1e-9\n",
    "assert abs(r - r_sklearn) < eps, \"RMSE and sklearn result differ!\"\n",
    "print(\"OK\")"
   ]
  },
  {
   "cell_type": "markdown",
   "metadata": {},
   "source": [
    "The RMSE (Root Mean Square Error) measures the average magnitude of prediction errors between predicted and true values.\n",
    "It is defined as:\n",
    "```Python\n",
    "RMSE = sqrt( (1/n) * Σ (y_pred[i] - y_true[i])² )\n",
    "```\n",
    "\n",
    "This can also be written using the L2 norm as:\n",
    "\n",
    "```Python\n",
    "RMSE = || y_pred - y_true ||₂ / sqrt(n)\n",
    "```\n",
    "In the implementation, np.linalg.norm efficiently computes the L₂ norm using optimized C code, which is much faster than manual Python loops.\n",
    "To ensure correctness, the result is compared against sklearn.metrics.mean_squared_error with squared=False, which returns the same RMSE value.\n",
    "Matching results confirm that our implementation is mathematically correct.\n"
   ]
  },
  {
   "cell_type": "markdown",
   "metadata": {},
   "source": [
    "#### Qd Similar construct the Mean Absolute Error (MAE) function (Equation 2-2 [HOML]) and evaluate it."
   ]
  },
  {
   "cell_type": "code",
   "execution_count": 17,
   "metadata": {},
   "outputs": [
    {
     "name": "stdout",
     "output_type": "stream",
     "text": [
      "MAE=3.75, diff=0.0\n",
      "OK\n"
     ]
    }
   ],
   "source": [
    "def MAE(y_pred, y_true):\n",
    "    \"\"\"Mean Absolute Error using L1 norm\"\"\"\n",
    "    diff = y_pred - y_true\n",
    "    n = len(y_true)\n",
    "    return L1(diff) / n\n",
    "\n",
    "\n",
    "# Calls your MAE function:\n",
    "r=MAE(h(X), y_true)\n",
    "\n",
    "# TEST vector:\n",
    "expected=3.75\n",
    "print(f\"MAE={r}, diff={r-expected}\")\n",
    "assert math.fabs(r-expected)<eps, \"MAE dist seems to be wrong\" \n",
    "\n",
    "print(\"OK\")"
   ]
  },
  {
   "cell_type": "markdown",
   "metadata": {},
   "source": [
    "#### Qe Robust Code "
   ]
  },
  {
   "cell_type": "code",
   "execution_count": 18,
   "metadata": {},
   "outputs": [
    {
     "name": "stdout",
     "output_type": "stream",
     "text": [
      "Testing with wrong inputs...\n",
      "L1 failed with 2D array - good\n",
      "RMSE failed with different sizes - good\n",
      "L1 norm of [1,-2,3]: 6.0\n",
      "L2 norm of [1,-2,3]: 3.7416573867739413\n",
      "RMSE: 1.0\n",
      "MAE: 1.0\n",
      "Done testing\n"
     ]
    }
   ],
   "source": [
    "# Testing error handling\n",
    "\n",
    "# Let's check what happens with bad inputs\n",
    "print(\"Testing with wrong inputs...\")\n",
    "\n",
    "try:\n",
    "    L1(np.array([[1,2],[3,4]]))  # 2D instead of 1D\n",
    "except:\n",
    "    print(\"L1 failed with 2D array - good\")\n",
    "\n",
    "try:\n",
    "    L2(np.array([]))  # empty\n",
    "except:\n",
    "    print(\"L2 failed with empty array - good\")\n",
    "    \n",
    "try:\n",
    "    RMSE(np.array([1,2,3]), np.array([1,2]))  # different sizes\n",
    "except:\n",
    "    print(\"RMSE failed with different sizes - good\")\n",
    "\n",
    "# Test normal usage still works\n",
    "x = np.array([1,-2,3])\n",
    "print(f\"L1 norm of [1,-2,3]: {L1(x)}\")\n",
    "print(f\"L2 norm of [1,-2,3]: {L2(x)}\")\n",
    "\n",
    "y_pred = np.array([2,3,4])\n",
    "y_true = np.array([1,2,3]) \n",
    "print(f\"RMSE: {RMSE(y_pred, y_true)}\")\n",
    "print(f\"MAE: {MAE(y_pred, y_true)}\")\n",
    "\n",
    "print(\"Done testing\")"
   ]
  },
  {
   "cell_type": "markdown",
   "metadata": {},
   "source": [
    "### Qf Conclusion"
   ]
  },
  {
   "cell_type": "markdown",
   "metadata": {},
   "source": [
    "These exercises covered the mathematical foundation that underlies most machine learning algorithms. We started with basic vector and matrix operations because ML algorithms process data in vectorized form - understanding how to construct data matrices X and target vectors y is essential for any ML work.\n",
    "\n",
    "The norm functions (L1 and L2) are fundamental because they measure distances and similarities between data points. Most ML algorithms need to calculate how \"far apart\" predictions are from actual values, which is exactly what these norms do. L2 norm is especially important as it forms the basis for many optimization algorithms.\n",
    "\n",
    "The cost functions MSE and MAE represent how we measure prediction quality in machine learning. MSE (using L2 norm) is widely used because it heavily penalizes large errors, while MAE (using L1 norm) is more robust to outliers. Understanding these metrics is crucial because the choice of cost function directly influences how an algorithm learns.\n",
    "\n",
    "Building these functions from scratch, rather than using library functions, helped us understand what actually happens \"under the hood\" when we call the libraries. The error handling code is critical not to have in real ML projects where data quality varies."
   ]
  },
  {
   "cell_type": "markdown",
   "metadata": {},
   "source": [
    "## Dummy binary-classifier\n",
    "\n",
    "#### Qa  Load and display the MNIST data"
   ]
  },
  {
   "cell_type": "code",
   "execution_count": 4,
   "metadata": {},
   "outputs": [
    {
     "name": "stdout",
     "output_type": "stream",
     "text": [
      "X shape: (70000, 784)\n",
      "y shape: (70000,)\n",
      "First few labels: ['5', '0', '4', '1', '9', '2', '1', '3', '1', '4']\n",
      "Categories (10, object): ['0', '1', '2', '3', ..., '6', '7', '8', '9']\n"
     ]
    },
    {
     "data": {
      "image/png": "[encoded data removed]",
      "text/plain": [
       "<Figure size 300x300 with 1 Axes>"
      ]
     },
     "metadata": {},
     "output_type": "display_data"
    }
   ],
   "source": [
    "from sklearn.datasets import fetch_openml\n",
    "import matplotlib\n",
    "import matplotlib.pyplot as plt\n",
    "import numpy as np\n",
    "\n",
    "%matplotlib inline\n",
    "\n",
    "def MNIST_PlotDigit(data):\n",
    "    image = data.reshape(28, 28)\n",
    "    plt.imshow(image, cmap = matplotlib.cm.binary, interpolation=\"nearest\")\n",
    "    plt.axis(\"off\")\n",
    "\n",
    "def MNIST_GetDataSet():\n",
    "    \"\"\"Load MNIST dataset from openml\"\"\"\n",
    "    X, y = fetch_openml('mnist_784', return_X_y=True, cache=True)\n",
    "    return X, y\n",
    "\n",
    "# Load the data\n",
    "X, y = MNIST_GetDataSet()\n",
    "\n",
    "# Convert to numpy arrays\n",
    "X = X.values\n",
    "y = y.values\n",
    "\n",
    "print(f\"X shape: {X.shape}\")\n",
    "print(f\"y shape: {y.shape}\")\n",
    "print(f\"First few labels: {y[:10]}\")\n",
    "\n",
    "# Plot the first digit\n",
    "plt.figure(figsize=(3, 3))\n",
    "MNIST_PlotDigit(X[0])\n",
    "plt.title(f\"Label: {y[0]}\")\n",
    "plt.show()"
   ]
  },
  {
   "cell_type": "markdown",
   "metadata": {},
   "source": [
    "#### Qb  Add a Stochastic Gradient Decent [SGD] Classifier"
   ]
  },
  {
   "cell_type": "code",
   "execution_count": 6,
   "metadata": {},
   "outputs": [
    {
     "name": "stdout",
     "output_type": "stream",
     "text": [
      "X.shape=(70000, 784)\n",
      "X.shape=(70000, 784)\n",
      "Training on 60000 samples\n",
      "Testing on 10000 samples\n",
      "Accuracy: 0.966\n",
      "Correct predictions: 9658\n",
      "Incorrect predictions: 342\n"
     ]
    },
    {
     "data": {
      "image/png": "[encoded data removed]",
      "text/plain": [
       "<Figure size 900x600 with 6 Axes>"
      ]
     },
     "metadata": {},
     "output_type": "display_data"
    },
    {
     "data": {
      "image/png": "[encoded data removed]",
      "text/plain": [
       "<Figure size 900x600 with 6 Axes>"
      ]
     },
     "metadata": {},
     "output_type": "display_data"
    }
   ],
   "source": [
    "from sklearn.linear_model import SGDClassifier\n",
    "from sklearn.model_selection import train_test_split\n",
    "\n",
    "# Load and prepare data\n",
    "X, y = MNIST_GetDataSet()\n",
    "X = X.values\n",
    "y = y.values\n",
    "\n",
    "# Check if reshaping needed (our data is already 2D)\n",
    "print(f\"X.shape={X.shape}\")\n",
    "if X.ndim==3:\n",
    "    print(\"reshaping X..\")\n",
    "    assert y.ndim==1\n",
    "    X = X.reshape((X.shape[0],X.shape[1]*X.shape[2]))\n",
    "assert X.ndim==2\n",
    "print(f\"X.shape={X.shape}\")\n",
    "\n",
    "# Split data into train/test\n",
    "X_train, X_test, y_train, y_test = train_test_split(X, y, test_size=10000, random_state=42)\n",
    "\n",
    "# Create binary labels (5 vs not-5)\n",
    "y_train_5 = (y_train == '5')\n",
    "y_test_5 = (y_test == '5')\n",
    "\n",
    "print(f\"Training on {len(X_train)} samples\")\n",
    "print(f\"Testing on {len(X_test)} samples\")\n",
    "\n",
    "# Create and train SGD classifier\n",
    "sgd_clf = SGDClassifier(random_state=42)\n",
    "sgd_clf.fit(X_train, y_train_5)\n",
    "\n",
    "# Make predictions\n",
    "y_pred = sgd_clf.predict(X_test)\n",
    "\n",
    "# Check accuracy\n",
    "accuracy = (y_pred == y_test_5).mean()\n",
    "print(f\"Accuracy: {accuracy:.3f}\")\n",
    "\n",
    "# Find correct and incorrect predictions\n",
    "correct_mask = (y_pred == y_test_5)\n",
    "incorrect_mask = ~correct_mask\n",
    "\n",
    "correct_indices = np.where(correct_mask)[0]\n",
    "incorrect_indices = np.where(incorrect_mask)[0]\n",
    "\n",
    "print(f\"Correct predictions: {correct_mask.sum()}\")\n",
    "print(f\"Incorrect predictions: {incorrect_mask.sum()}\")\n",
    "\n",
    "# Plot some correctly classified examples\n",
    "fig, axes = plt.subplots(2, 3, figsize=(9, 6))\n",
    "fig.suptitle(\"Correctly Classified\")\n",
    "\n",
    "for i in range(6):\n",
    "    idx = correct_indices[i]\n",
    "    ax = axes[i//3, i%3]\n",
    "    ax.imshow(X_test[idx].reshape(28, 28), cmap='binary')\n",
    "    ax.set_title(f\"True: {y_test[idx]}, Pred: {'5' if y_pred[idx] else 'not-5'}\")\n",
    "    ax.axis('off')\n",
    "\n",
    "plt.tight_layout()\n",
    "plt.show()\n",
    "\n",
    "# Plot some misclassified examples\n",
    "fig, axes = plt.subplots(2, 3, figsize=(9, 6))\n",
    "fig.suptitle(\"Misclassified\")\n",
    "\n",
    "for i in range(6):\n",
    "    idx = incorrect_indices[i]\n",
    "    ax = axes[i//3, i%3]\n",
    "    ax.imshow(X_test[idx].reshape(28, 28), cmap='binary')\n",
    "    ax.set_title(f\"True: {y_test[idx]}, Pred: {'5' if y_pred[idx] else 'not-5'}\")\n",
    "    ax.axis('off')\n",
    "\n",
    "plt.tight_layout()\n",
    "plt.show()"
   ]
  },
  {
   "cell_type": "markdown",
   "metadata": {},
   "source": [
    "In this task, we train a linear SGDClassifier on the MNIST dataset to distinguish between the digit 5 and all other digits (not-5).\n",
    "The MNIST dataset contains 70,000 grayscale digit images (28×28 pixels = 784 features). The data is split into 60,000 training samples and 10,000 test samples.\n",
    "\n",
    "Each image is flattened into a 1D feature vector, and the target label is converted into a binary form — True for the digit 5 and False for all other digits.\n",
    "The model is trained using stochastic gradient descent (SGD), a linear classifier well-suited for large-scale datasets.\n",
    "\n",
    "After training, the classifier achieves an accuracy of 0.966, with 9,658 correctly classified samples and 342 misclassified ones.\n",
    "Correctly and incorrectly classified digits are visualized below to better understand where the model performs well and where it struggles — for instance, digits such as “3” and “8” are sometimes mistaken for “5” due to visual similarity.\n",
    "\n",
    "Even though the overall accuracy is high, it is important to note that the dataset is imbalanced — most samples are not-5. Therefore, additional metrics such as precision, recall, and F1-score should be considered to better evaluate the model’s true performance.\n",
    "\n",
    "This implementation was based on the [Scikit-learn documentation](https://scikit-learn.org/stable/modules/generated/sklearn.linear_model.SGDClassifier.html)\n",
    "and developed with assistance from OpenAI ChatGPT (GPT-5)."
   ]
  },
  {
   "cell_type": "markdown",
   "metadata": {},
   "source": [
    "#### Qc Implement a dummy binary classifier"
   ]
  },
  {
   "cell_type": "code",
   "execution_count": 7,
   "metadata": {},
   "outputs": [
    {
     "name": "stdout",
     "output_type": "stream",
     "text": [
      "Dummy classifier accuracy: 0.906\n",
      "SGD classifier accuracy: 0.966\n",
      "Improvement from SGD: 0.059\n",
      "\n",
      "In test set:\n",
      "Number of 5s: 937\n",
      "Number of not-5s: 9063\n",
      "Percentage of not-5s: 90.6%\n",
      "\n",
      "Dummy just guesses 'not-5' for everything and gets most right!\n"
     ]
    }
   ],
   "source": [
    "from sklearn.metrics import accuracy_score\n",
    "\n",
    "class DummyClassifier:\n",
    "    \"\"\"A dummy classifier that always predicts 'not 5' (False)\"\"\"\n",
    "    \n",
    "    def fit(self, X, y):\n",
    "        \"\"\"Fit method - doesn't actually learn anything\"\"\"\n",
    "        return self\n",
    "    \n",
    "    def predict(self, X):\n",
    "        \"\"\"Always predict False (not a 5)\"\"\"\n",
    "        return [False] * len(X)\n",
    "\n",
    "# Create and test dummy classifier\n",
    "dummy_clf = DummyClassifier()\n",
    "dummy_clf.fit(X_train, y_train_5)\n",
    "\n",
    "# Make predictions\n",
    "dummy_pred = dummy_clf.predict(X_test)\n",
    "\n",
    "# Calculate accuracy\n",
    "dummy_accuracy = accuracy_score(y_test_5, dummy_pred)\n",
    "print(f\"Dummy classifier accuracy: {dummy_accuracy:.3f}\")\n",
    "\n",
    "# Compare with SGD\n",
    "print(f\"SGD classifier accuracy: {accuracy:.3f}\")\n",
    "print(f\"Improvement from SGD: {accuracy - dummy_accuracy:.3f}\")\n",
    "\n",
    "# Show why dummy works so well\n",
    "num_5s = sum(y_test_5)\n",
    "num_not5s = len(y_test_5) - num_5s\n",
    "print(f\"\\nIn test set:\")\n",
    "print(f\"Number of 5s: {num_5s}\")\n",
    "print(f\"Number of not-5s: {num_not5s}\")\n",
    "print(f\"Percentage of not-5s: {num_not5s/len(y_test_5):.1%}\")\n",
    "print(\"\\nDummy just guesses 'not-5' for everything and gets most right!\")"
   ]
  },
  {
   "cell_type": "markdown",
   "metadata": {},
   "source": [
    "### Qd Conclusion"
   ]
  },
  {
   "cell_type": "markdown",
   "metadata": {},
   "source": [
    "These exercises demonstrated the core workflow of machine learning classification. We loaded real data (MNIST), converted a multi-class problem into binary classification, and compared different approaches.\n",
    "\n",
    "The SGD classifier showed how gradient descent algorithms learn patterns from data to make predictions. It achieved 96.6% accuracy by finding decision boundaries that separate 5s from other digits based on pixel patterns.\n",
    "\n",
    "In contrast, the DummyClassifier provided a crucial baseline comparison. By always predicting “not-5”, it achieved around 90% accuracy — not because it learned anything meaningful, but simply because most digits in the dataset are not 5.\n",
    "This highlights an important concept known as data skewness (class imbalance): when one class dominates the dataset, accuracy alone becomes misleading, as even a “brain-dead” classifier can perform deceptively well.\n",
    "\n",
    "The class implementation using duck typing showed how Python's flexibility lets us create sklearn-compatible estimators without inheritance. As long as our class has fit() and predict() methods, it \"walks and quacks\" like a classifier.\n"
   ]
  },
  {
   "cell_type": "markdown",
   "metadata": {},
   "source": [
    "## Performance Metrics\n",
    "\n",
    "#### Qa Implement the Accuracy function and test it on the MNIST data."
   ]
  },
  {
   "cell_type": "code",
   "execution_count": 11,
   "metadata": {},
   "outputs": [
    {
     "name": "stderr",
     "output_type": "stream",
     "text": [
      "c:\\Users\\omary\\anaconda3\\Lib\\site-packages\\sklearn\\datasets\\_openml.py:1002: FutureWarning: The default value of `parser` will change from `'liac-arff'` to `'auto'` in 1.4. You can set `parser='auto'` to silence this warning. Therefore, an `ImportError` will be raised from 1.4 if the dataset is dense and pandas is not installed. Note that the pandas parser may return different data types. See the Notes Section in fetch_openml's API doc for details.\n",
      "  warn(\n"
     ]
    },
    {
     "name": "stdout",
     "output_type": "stream",
     "text": [
      "SGD Classifier:\n",
      "My accuracy:      0.966\n",
      "Sklearn accuracy: 0.966\n",
      "Difference:       0.000000\n",
      "\n",
      "Dummy Classifier:\n",
      "My accuracy:      0.906\n",
      "Sklearn accuracy: 0.906\n",
      "Difference:       0.000000\n"
     ]
    }
   ],
   "source": [
    "import numpy as np\n",
    "from sklearn.datasets import fetch_openml\n",
    "from sklearn.linear_model import SGDClassifier\n",
    "from sklearn.model_selection import train_test_split\n",
    "from sklearn.metrics import accuracy_score\n",
    "\n",
    "def MyAccuracy(y_true, y_pred):\n",
    "    \"\"\"Calculate accuracy: (correct predictions) / (total predictions)\"\"\"\n",
    "    correct = 0\n",
    "    total = len(y_true)\n",
    "    \n",
    "    if total == 0:  # avoid division by zero\n",
    "        return 0.0\n",
    "    \n",
    "    for i in range(total):\n",
    "        if y_true[i] == y_pred[i]:\n",
    "            correct += 1\n",
    "    \n",
    "    return correct / total\n",
    "\n",
    "# Load MNIST data\n",
    "def MNIST_GetDataSet():\n",
    "    X, y = fetch_openml('mnist_784', return_X_y=True, cache=True)\n",
    "    return X.values, y.values\n",
    "\n",
    "# Get data and prepare binary classification\n",
    "X, y = MNIST_GetDataSet()\n",
    "X_train, X_test, y_train, y_test = train_test_split(X, y, test_size=10000, random_state=42)\n",
    "\n",
    "# Create binary labels (5 vs not-5)\n",
    "y_train_5 = (y_train == '5')\n",
    "y_test_5 = (y_test == '5')\n",
    "\n",
    "# Dummy classifier - always predicts False (not-5)\n",
    "class DummyClassifier:\n",
    "    def fit(self, X, y):\n",
    "        return self\n",
    "    def predict(self, X):\n",
    "        return [False] * len(X)\n",
    "\n",
    "# Train classifiers\n",
    "sgd_clf = SGDClassifier(random_state=42)\n",
    "sgd_clf.fit(X_train, y_train_5)\n",
    "\n",
    "dummy_clf = DummyClassifier()\n",
    "dummy_clf.fit(X_train, y_train_5)\n",
    "\n",
    "# Make predictions\n",
    "sgd_pred = sgd_clf.predict(X_test)\n",
    "dummy_pred = dummy_clf.predict(X_test)\n",
    "\n",
    "# Test MyAccuracy vs sklearn\n",
    "print(\"SGD Classifier:\")\n",
    "my_acc_sgd = MyAccuracy(y_test_5, sgd_pred)\n",
    "sklearn_acc_sgd = accuracy_score(y_test_5, sgd_pred)\n",
    "print(f\"My accuracy:      {my_acc_sgd:.3f}\")\n",
    "print(f\"Sklearn accuracy: {sklearn_acc_sgd:.3f}\")\n",
    "print(f\"Difference:       {abs(my_acc_sgd - sklearn_acc_sgd):.6f}\")\n",
    "\n",
    "print(\"\\nDummy Classifier:\")\n",
    "my_acc_dummy = MyAccuracy(y_test_5, dummy_pred)\n",
    "sklearn_acc_dummy = accuracy_score(y_test_5, dummy_pred)\n",
    "print(f\"My accuracy:      {my_acc_dummy:.3f}\")\n",
    "print(f\"Sklearn accuracy: {sklearn_acc_dummy:.3f}\")\n",
    "print(f\"Difference:       {abs(my_acc_dummy - sklearn_acc_dummy):.6f}\")"
   ]
  },
  {
   "cell_type": "markdown",
   "metadata": {},
   "source": [
    "#### Qb Implement Precision, Recall and $F_1$-score and test it on the MNIST data for both the SGD and Dummy classifier models"
   ]
  },
  {
   "cell_type": "code",
   "execution_count": 12,
   "metadata": {},
   "outputs": [
    {
     "name": "stdout",
     "output_type": "stream",
     "text": [
      "SGD Classifier Metrics:\n",
      "Precision - My: 0.853, Sklearn: 0.853\n",
      "Recall    - My: 0.767, Sklearn: 0.767\n",
      "F1        - My: 0.808, Sklearn: 0.808\n",
      "\n",
      "Dummy Classifier Metrics:\n",
      "Precision - My: 0.000, Sklearn: 0.000\n",
      "Recall    - My: 0.000, Sklearn: 0.000\n",
      "F1        - My: 0.000, Sklearn: 0.000\n",
      "\n",
      "SGD Confusion Matrix counts:\n",
      "True Positives:  719\n",
      "False Positives: 124\n",
      "False Negatives: 218\n"
     ]
    }
   ],
   "source": [
    "from sklearn.metrics import precision_score, recall_score, f1_score\n",
    "\n",
    "def MyPrecision(y_true, y_pred):\n",
    "    \"\"\"Precision = TP / (TP + FP)\"\"\"\n",
    "    tp = 0  # true positives\n",
    "    fp = 0  # false positives\n",
    "    \n",
    "    for i in range(len(y_true)):\n",
    "        if y_pred[i] == True and y_true[i] == True:\n",
    "            tp += 1\n",
    "        elif y_pred[i] == True and y_true[i] == False:\n",
    "            fp += 1\n",
    "    \n",
    "    if tp + fp == 0:  # avoid division by zero\n",
    "        return 0.0\n",
    "    return tp / (tp + fp)\n",
    "\n",
    "def MyRecall(y_true, y_pred):\n",
    "    \"\"\"Recall = TP / (TP + FN)\"\"\"\n",
    "    tp = 0  # true positives  \n",
    "    fn = 0  # false negatives\n",
    "    \n",
    "    for i in range(len(y_true)):\n",
    "        if y_pred[i] == True and y_true[i] == True:\n",
    "            tp += 1\n",
    "        elif y_pred[i] == False and y_true[i] == True:\n",
    "            fn += 1\n",
    "    \n",
    "    if tp + fn == 0:  # avoid division by zero\n",
    "        return 0.0\n",
    "    return tp / (tp + fn)\n",
    "\n",
    "def MyF1Score(y_true, y_pred):\n",
    "    \"\"\"F1 = 2 * (precision * recall) / (precision + recall)\"\"\"\n",
    "    precision = MyPrecision(y_true, y_pred)\n",
    "    recall = MyRecall(y_true, y_pred)\n",
    "    \n",
    "    if precision + recall == 0:  # avoid division by zero\n",
    "        return 0.0\n",
    "    return 2 * (precision * recall) / (precision + recall)\n",
    "\n",
    "# Test on SGD classifier\n",
    "print(\"SGD Classifier Metrics:\")\n",
    "my_prec_sgd = MyPrecision(y_test_5, sgd_pred)\n",
    "sklearn_prec_sgd = precision_score(y_test_5, sgd_pred)\n",
    "print(f\"Precision - My: {my_prec_sgd:.3f}, Sklearn: {sklearn_prec_sgd:.3f}\")\n",
    "\n",
    "my_rec_sgd = MyRecall(y_test_5, sgd_pred)\n",
    "sklearn_rec_sgd = recall_score(y_test_5, sgd_pred)\n",
    "print(f\"Recall    - My: {my_rec_sgd:.3f}, Sklearn: {sklearn_rec_sgd:.3f}\")\n",
    "\n",
    "my_f1_sgd = MyF1Score(y_test_5, sgd_pred)\n",
    "sklearn_f1_sgd = f1_score(y_test_5, sgd_pred)\n",
    "print(f\"F1        - My: {my_f1_sgd:.3f}, Sklearn: {sklearn_f1_sgd:.3f}\")\n",
    "\n",
    "# Test on Dummy classifier\n",
    "print(\"\\nDummy Classifier Metrics:\")\n",
    "my_prec_dummy = MyPrecision(y_test_5, dummy_pred)\n",
    "sklearn_prec_dummy = precision_score(y_test_5, dummy_pred, zero_division=0)\n",
    "print(f\"Precision - My: {my_prec_dummy:.3f}, Sklearn: {sklearn_prec_dummy:.3f}\")\n",
    "\n",
    "my_rec_dummy = MyRecall(y_test_5, dummy_pred)\n",
    "sklearn_rec_dummy = recall_score(y_test_5, dummy_pred)\n",
    "print(f\"Recall    - My: {my_rec_dummy:.3f}, Sklearn: {sklearn_rec_dummy:.3f}\")\n",
    "\n",
    "my_f1_dummy = MyF1Score(y_test_5, dummy_pred)\n",
    "sklearn_f1_dummy = f1_score(y_test_5, dummy_pred)\n",
    "print(f\"F1        - My: {my_f1_dummy:.3f}, Sklearn: {sklearn_f1_dummy:.3f}\")\n",
    "\n",
    "# Show counts for understanding\n",
    "tp_sgd = sum(1 for i in range(len(y_test_5)) if sgd_pred[i] == True and y_test_5[i] == True)\n",
    "fp_sgd = sum(1 for i in range(len(y_test_5)) if sgd_pred[i] == True and y_test_5[i] == False)\n",
    "fn_sgd = sum(1 for i in range(len(y_test_5)) if sgd_pred[i] == False and y_test_5[i] == True)\n",
    "\n",
    "print(f\"\\nSGD Confusion Matrix counts:\")\n",
    "print(f\"True Positives:  {tp_sgd}\")\n",
    "print(f\"False Positives: {fp_sgd}\")\n",
    "print(f\"False Negatives: {fn_sgd}\")"
   ]
  },
  {
   "cell_type": "markdown",
   "metadata": {},
   "source": [
    "#### Qc The Confusion Matrix"
   ]
  },
  {
   "cell_type": "code",
   "execution_count": 13,
   "metadata": {},
   "outputs": [
    {
     "name": "stdout",
     "output_type": "stream",
     "text": [
      "Confusion Matrices:\n",
      "Dummy Classifier:\n",
      "[[9063    0]\n",
      " [ 937    0]]\n",
      "\n",
      "SGD Classifier:\n",
      "[[8939  124]\n",
      " [ 218  719]]\n",
      "\n",
      "Matrix Layout:\n",
      "confusion_matrix(y_true, y_pred)\n",
      "[[TN  FP]\n",
      " [FN  TP]]\n",
      "\n",
      "\n",
      "SGD Classifier breakdown:\n",
      "TN (True Negatives):  8939\n",
      "FP (False Positives): 124\n",
      "FN (False Negatives): 218\n",
      "TP (True Positives):  719\n",
      "\n",
      "What happens with wrong parameter order:\n",
      "confusion_matrix(y_pred, y_true) - WRONG ORDER:\n",
      "[[8939  218]\n",
      " [ 124  719]]\n",
      "This gives the TRANSPOSED matrix — the diagonal (TP/TN) stays the same, but FP and FN are swapped.\n"
     ]
    }
   ],
   "source": [
    "from sklearn.metrics import confusion_matrix\n",
    "\n",
    "# Generate confusion matrices\n",
    "print(\"Confusion Matrices:\")\n",
    "\n",
    "# Dummy classifier confusion matrix\n",
    "M_dummy = confusion_matrix(y_test_5, dummy_pred)\n",
    "print(\"Dummy Classifier:\")\n",
    "print(M_dummy)\n",
    "\n",
    "# SGD classifier confusion matrix  \n",
    "M_sgd = confusion_matrix(y_test_5, sgd_pred)\n",
    "print(\"\\nSGD Classifier:\")\n",
    "print(M_sgd)\n",
    "\n",
    "# Explain the matrix layout\n",
    "print(\"\\nMatrix Layout:\")\n",
    "print(\"confusion_matrix(y_true, y_pred)\")\n",
    "print(\"[[TN  FP]\")\n",
    "print(\" [FN  TP]]\")\n",
    "print()\n",
    "\n",
    "# Extract values for SGD classifier\n",
    "tn_sgd = M_sgd[0,0]\n",
    "fp_sgd = M_sgd[0,1] \n",
    "fn_sgd = M_sgd[1,0]\n",
    "tp_sgd = M_sgd[1,1]\n",
    "\n",
    "print(f\"\\nSGD Classifier breakdown:\")\n",
    "print(f\"TN (True Negatives):  {tn_sgd}\")\n",
    "print(f\"FP (False Positives): {fp_sgd}\")\n",
    "print(f\"FN (False Negatives): {fn_sgd}\")\n",
    "print(f\"TP (True Positives):  {tp_sgd}\")\n",
    "\n",
    "# Test wrong parameter order\n",
    "print(\"\\nWhat happens with wrong parameter order:\")\n",
    "M_wrong = confusion_matrix(sgd_pred, y_test_5)  # swapped parameters\n",
    "print(\"confusion_matrix(y_pred, y_true) - WRONG ORDER:\")\n",
    "print(M_wrong)\n",
    "print(\"This gives the TRANSPOSED matrix — the diagonal (TP/TN) stays the same, but FP and FN are swapped.\")\n"
   ]
  },
  {
   "cell_type": "markdown",
   "metadata": {},
   "source": [
    "#### Qd A Confusion Matrix Heat-map"
   ]
  },
  {
   "cell_type": "code",
   "execution_count": 14,
   "metadata": {},
   "outputs": [
    {
     "name": "stdout",
     "output_type": "stream",
     "text": [
      "HOML Style Heat Maps\n",
      "===================\n"
     ]
    },
    {
     "data": {
      "image/png": "[encoded data removed]",
      "text/plain": [
       "<Figure size 1000x400 with 4 Axes>"
      ]
     },
     "metadata": {},
     "output_type": "display_data"
    },
    {
     "data": {
      "image/png": "[encoded data removed]",
      "text/plain": [
       "<Figure size 1000x400 with 4 Axes>"
      ]
     },
     "metadata": {},
     "output_type": "display_data"
    },
    {
     "name": "stdout",
     "output_type": "stream",
     "text": [
      "HOML Analysis:\n",
      "==============\n",
      "Raw matrices show:\n",
      "- Dummy: TN=9063, FP=0, FN=937, TP=0\n",
      "- SGD: TN=8939, FP=124, FN=218, TP=719\n",
      "\n",
      "Error-only matrices reveal:\n",
      "- Dummy: 100% false negative rate (bright [1,0]) - misses ALL 5s\n",
      "- SGD: Much lower error rates in both directions\n",
      "- SGD finds most 5s (TP=719) with few false alarms (FP=124)\n",
      "\n",
      "Key insight: SGD dramatically reduces false negatives while\n",
      "keeping false positives low - much better than dummy baseline\n"
     ]
    },
    {
     "data": {
      "image/png": "[encoded data removed]",
      "text/plain": [
       "<Figure size 1400x450 with 6 Axes>"
      ]
     },
     "metadata": {},
     "output_type": "display_data"
    },
    {
     "name": "stdout",
     "output_type": "stream",
     "text": [
      "\n",
      "Top confusions (true → predicted, count):\n",
      "3 → 5 : 138\n",
      "8 → 5 : 135\n",
      "2 → 3 : 82\n",
      "2 → 8 : 78\n",
      "9 → 4 : 71\n"
     ]
    }
   ],
   "source": [
    "import matplotlib.pyplot as plt\n",
    "import numpy as np\n",
    "\n",
    "# HOML style confusion matrix visualization\n",
    "print(\"HOML Style Heat Maps\")\n",
    "print(\"===================\")\n",
    "\n",
    "# Raw confusion matrices using matshow (HOML approach)\n",
    "plt.figure(figsize=(10, 4))\n",
    "\n",
    "plt.subplot(1, 2, 1)\n",
    "plt.matshow(M_dummy, cmap=plt.cm.gray, fignum=False)\n",
    "plt.title('Dummy Classifier')\n",
    "plt.colorbar()\n",
    "# Add numbers on the matrix\n",
    "for i in range(2):\n",
    "    for j in range(2):\n",
    "        plt.text(j, i, M_dummy[i, j], ha=\"center\", va=\"center\", \n",
    "                color=\"red\", fontsize=16, weight='bold')\n",
    "\n",
    "plt.subplot(1, 2, 2)  \n",
    "plt.matshow(M_sgd, cmap=plt.cm.gray, fignum=False)\n",
    "plt.title('SGD Classifier')\n",
    "plt.colorbar()\n",
    "# Add numbers on the matrix\n",
    "for i in range(2):\n",
    "    for j in range(2):\n",
    "        plt.text(j, i, M_sgd[i, j], ha=\"center\", va=\"center\",\n",
    "                color=\"red\", fontsize=16, weight='bold')\n",
    "\n",
    "plt.tight_layout()\n",
    "plt.show()\n",
    "\n",
    "# Normalize by row sums and focus on errors (HOML approach)\n",
    "row_sums_dummy = M_dummy.sum(axis=1, keepdims=True)\n",
    "norm_M_dummy = M_dummy / row_sums_dummy\n",
    "\n",
    "row_sums_sgd = M_sgd.sum(axis=1, keepdims=True)\n",
    "norm_M_sgd = M_sgd / row_sums_sgd\n",
    "\n",
    "# Fill diagonal with zeros to keep only errors\n",
    "norm_M_dummy_errors = norm_M_dummy.copy()\n",
    "norm_M_sgd_errors = norm_M_sgd.copy()\n",
    "np.fill_diagonal(norm_M_dummy_errors, 0)\n",
    "np.fill_diagonal(norm_M_sgd_errors, 0)\n",
    "\n",
    "plt.figure(figsize=(10, 4))\n",
    "\n",
    "plt.subplot(1, 2, 1)\n",
    "plt.matshow(norm_M_dummy_errors, cmap=plt.cm.gray, fignum=False)\n",
    "plt.title('Dummy - Errors Only (Normalized)')\n",
    "plt.colorbar()\n",
    "\n",
    "plt.subplot(1, 2, 2)\n",
    "plt.matshow(norm_M_sgd_errors, cmap=plt.cm.gray, fignum=False)\n",
    "plt.title('SGD - Errors Only (Normalized)')\n",
    "plt.colorbar()\n",
    "\n",
    "plt.tight_layout()\n",
    "plt.show()\n",
    "\n",
    "# HOML style analysis\n",
    "print(\"HOML Analysis:\")\n",
    "print(\"==============\")\n",
    "print(\"Raw matrices show:\")\n",
    "print(\"- Dummy: TN=9063, FP=0, FN=937, TP=0\")\n",
    "print(\"- SGD: TN=8939, FP=124, FN=218, TP=719\")\n",
    "print()\n",
    "print(\"Error-only matrices reveal:\")\n",
    "print(\"- Dummy: 100% false negative rate (bright [1,0]) - misses ALL 5s\")\n",
    "print(\"- SGD: Much lower error rates in both directions\")\n",
    "print(\"- SGD finds most 5s (TP=719) with few false alarms (FP=124)\")\n",
    "print()\n",
    "print(\"Key insight: SGD dramatically reduces false negatives while\")\n",
    "print(\"keeping false positives low - much better than dummy baseline\")\n",
    "\n",
    "# 10×10 CONFUSION MATRIX (multiclass reuse of your data)\n",
    "from sklearn.linear_model import SGDClassifier\n",
    "from sklearn.metrics import confusion_matrix\n",
    "\n",
    "# Train a multiclass SGD on the original digit labels (0–9).\n",
    "# Reuses your X_train/X_test/y_train/y_test (original labels, not the 5-vs-not5 booleans).\n",
    "sgd_digits = SGDClassifier(random_state=42)\n",
    "sgd_digits.fit(X_train, y_train)\n",
    "y_pred_digits = sgd_digits.predict(X_test)\n",
    "\n",
    "# Build 10×10 confusion matrices\n",
    "labels = np.unique(y_test)  # keep dtype consistent (often strings)\n",
    "cm10 = confusion_matrix(y_test, y_pred_digits, labels=labels)\n",
    "cm10_norm = cm10.astype(float) / cm10.sum(axis=1, keepdims=True)\n",
    "\n",
    "cm10_errors = cm10_norm.copy()\n",
    "np.fill_diagonal(cm10_errors, 0.0)  # “errors only” view\n",
    "\n",
    "def plot_cm(M, title, labels, annotate=True, vmin=None, vmax=None):\n",
    "    plt.imshow(M, cmap=plt.cm.gray, vmin=vmin, vmax=vmax)\n",
    "    plt.title(title)\n",
    "    plt.xlabel(\"Predicted\")\n",
    "    plt.ylabel(\"True\")\n",
    "    plt.xticks(range(len(labels)), labels)\n",
    "    plt.yticks(range(len(labels)), labels)\n",
    "    cbar = plt.colorbar(fraction=0.046, pad=0.04)\n",
    "    if annotate:\n",
    "        for i in range(M.shape[0]):\n",
    "            for j in range(M.shape[1]):\n",
    "                txt = f\"{M[i,j]:.2f}\" if M.dtype.kind == 'f' else f\"{int(M[i,j])}\"\n",
    "                plt.text(j, i, txt, ha=\"center\", va=\"center\",\n",
    "                         color=\"red\", fontsize=8, weight='bold')\n",
    "\n",
    "plt.figure(figsize=(14, 4.5))\n",
    "plt.subplot(1,3,1); plot_cm(cm10,       \"Digits 0–9: Confusion Matrix (counts)\", labels)\n",
    "plt.subplot(1,3,2); plot_cm(cm10_norm,  \"Digits 0–9: Row-normalized\",           labels)\n",
    "plt.subplot(1,3,3); plot_cm(cm10_errors,\"Digits 0–9: Errors only (diag=0)\",     labels,\n",
    "                            vmin=0.0, vmax=cm10_errors.max())\n",
    "plt.tight_layout(); plt.show()\n",
    "\n",
    "# Optional: show top confusions (largest off-diagonal entries)\n",
    "off_diag = cm10.copy()\n",
    "np.fill_diagonal(off_diag, 0)\n",
    "pairs = np.dstack(np.unravel_index(np.argsort(off_diag, axis=None)[::-1], off_diag.shape))[0]\n",
    "print(\"\\nTop confusions (true → predicted, count):\")\n",
    "count = 0\n",
    "for i, j in pairs:\n",
    "    if off_diag[i, j] == 0: break\n",
    "    print(f\"{labels[i]} → {labels[j]} : {off_diag[i, j]}\")\n",
    "    count += 1\n",
    "    if count >= 5: break\n"
   ]
  },
  {
   "cell_type": "markdown",
   "metadata": {},
   "source": [
    "In this exercise, we extended the binary (2×2) confusion matrix to a full 10×10 version for the entire MNIST dataset (digits 0–9).\n",
    "Each cell (i,j) represents how often images of the digit i were classified as digit j by the model.\n",
    "\n",
    "Three visualizations were generated:\n",
    "- Raw counts: shows the absolute number of predictions per class.\n",
    "- Row-normalized matrix: shows prediction percentages relative to the true class, making it easier to compare performance across digits with different sample sizes.\n",
    "- Error-only view (diagonal removed): highlights only the misclassifications, clearly showing where the model struggles.\n",
    "\n",
    "The results show that the SGD classifier performs well overall, with most predictions concentrated on the diagonal.\n",
    "However, some digits are frequently confused, especially:\n",
    "- 3 → 5 (138 samples)\n",
    "- 8 → 5 (135 samples)\n",
    "- 2 → 3 and 2 → 8, which look visually similar in handwriting.\n",
    "\n",
    "This visualization provides valuable insight into where the classifier fails, allowing for targeted model improvements.\n",
    "The code and visualization approach are inspired by the method used in Hands-On Machine Learning (HOML), and implemented by the help of ChatGPT."
   ]
  },
  {
   "cell_type": "markdown",
   "metadata": {},
   "source": [
    "### Qe Conclusion"
   ]
  },
  {
   "cell_type": "markdown",
   "metadata": {},
   "source": [
    "These exercises showed why accuracy alone isn't enough to evaluate classifiers. We built our own accuracy, precision, recall and F1 functions from scratch to understand what these metrics actually calculate.\n",
    "\n",
    "The dummy classifier achieved 90% accuracy just by always guessing \"not-5\", which sounds impressive until you realize it never finds any 5s. This demonstrates the accuracy paradox - high accuracy can be misleading with imbalanced data.\n",
    "\n",
    "Precision measures how many predicted positives are actually positive, while recall measures how many actual positives we found. The F1 score balances both. The dummy classifier had zero precision and recall because it never predicted positive.\n",
    "\n",
    "Confusion matrices made these concepts visual. The HOML-style heat maps revealed error patterns clearly - the dummy classifier only made false negative errors, while SGD made both types but far fewer overall.\n",
    "\n",
    "The key insight is that different metrics highlight different aspects of performance. In medical diagnosis, missing a disease (false negative) might be worse than a false alarm (false positive)."
   ]
  }
 ],
 "metadata": {
  "kernelspec": {
   "display_name": "base",
   "language": "python",
   "name": "python3"
  },
  "language_info": {
   "codemirror_mode": {
    "name": "ipython",
    "version": 3
   },
   "file_extension": ".py",
   "mimetype": "text/x-python",
   "name": "python",
   "nbconvert_exporter": "python",
   "pygments_lexer": "ipython3",
   "version": "3.11.5"
  },
  "nav_menu": {},
  "toc": {
   "navigate_menu": true,
   "number_sections": true,
   "sideBar": true,
   "threshold": 6,
   "toc_cell": false,
   "toc_section_display": "block",
   "toc_window_display": true
  },
  "toc-autonumbering": true,
  "toc-showcode": true,
  "toc-showmarkdowntxt": true,
  "toc_position": {
   "height": "616px",
   "left": "0px",
   "right": "20px",
   "top": "106px",
   "width": "213px"
  },
  "varInspector": {
   "cols": {
    "lenName": 16,
    "lenType": 16,
    "lenVar": 40
   },
   "kernels_config": {
    "python": {
     "delete_cmd_postfix": "",
     "delete_cmd_prefix": "del ",
     "library": "var_list.py",
     "varRefreshCmd": "print(var_dic_list())"
    },
    "r": {
     "delete_cmd_postfix": ") ",
     "delete_cmd_prefix": "rm(",
     "library": "var_list.r",
     "varRefreshCmd": "cat(var_dic_list()) "
    }
   },
   "types_to_exclude": [
    "module",
    "function",
    "builtin_function_or_method",
    "instance",
    "_Feature"
   ],
   "window_display": false
  }
 },
 "nbformat": 4,
 "nbformat_minor": 4
}
